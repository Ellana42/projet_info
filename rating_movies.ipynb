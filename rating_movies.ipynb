{
 "cells": [
  {
   "cell_type": "markdown",
   "metadata": {
    "heading_collapsed": true
   },
   "source": [
    "# Data preparation"
   ]
  },
  {
   "cell_type": "markdown",
   "metadata": {
    "heading_collapsed": true,
    "hidden": true
   },
   "source": [
    "## Import base"
   ]
  },
  {
   "cell_type": "code",
   "execution_count": 1,
   "metadata": {
    "hidden": true
   },
   "outputs": [],
   "source": [
    "import pandas as pd"
   ]
  },
  {
   "cell_type": "code",
   "execution_count": 2,
   "metadata": {
    "hidden": true
   },
   "outputs": [],
   "source": [
    "credits = pd.read_csv('tmdb_5000_credits.csv')\n",
    "movies = pd.read_csv('tmdb_5000_movies.csv')"
   ]
  },
  {
   "cell_type": "code",
   "execution_count": 3,
   "metadata": {
    "hidden": true
   },
   "outputs": [
    {
     "data": {
      "text/html": [
       "<div>\n",
       "<style scoped>\n",
       "    .dataframe tbody tr th:only-of-type {\n",
       "        vertical-align: middle;\n",
       "    }\n",
       "\n",
       "    .dataframe tbody tr th {\n",
       "        vertical-align: top;\n",
       "    }\n",
       "\n",
       "    .dataframe thead th {\n",
       "        text-align: right;\n",
       "    }\n",
       "</style>\n",
       "<table border=\"1\" class=\"dataframe\">\n",
       "  <thead>\n",
       "    <tr style=\"text-align: right;\">\n",
       "      <th></th>\n",
       "      <th>movie_id</th>\n",
       "      <th>title</th>\n",
       "      <th>cast</th>\n",
       "      <th>crew</th>\n",
       "    </tr>\n",
       "  </thead>\n",
       "  <tbody>\n",
       "    <tr>\n",
       "      <th>0</th>\n",
       "      <td>19995</td>\n",
       "      <td>Avatar</td>\n",
       "      <td>[{\"cast_id\": 242, \"character\": \"Jake Sully\", \"...</td>\n",
       "      <td>[{\"credit_id\": \"52fe48009251416c750aca23\", \"de...</td>\n",
       "    </tr>\n",
       "    <tr>\n",
       "      <th>1</th>\n",
       "      <td>285</td>\n",
       "      <td>Pirates of the Caribbean: At World's End</td>\n",
       "      <td>[{\"cast_id\": 4, \"character\": \"Captain Jack Spa...</td>\n",
       "      <td>[{\"credit_id\": \"52fe4232c3a36847f800b579\", \"de...</td>\n",
       "    </tr>\n",
       "    <tr>\n",
       "      <th>2</th>\n",
       "      <td>206647</td>\n",
       "      <td>Spectre</td>\n",
       "      <td>[{\"cast_id\": 1, \"character\": \"James Bond\", \"cr...</td>\n",
       "      <td>[{\"credit_id\": \"54805967c3a36829b5002c41\", \"de...</td>\n",
       "    </tr>\n",
       "    <tr>\n",
       "      <th>3</th>\n",
       "      <td>49026</td>\n",
       "      <td>The Dark Knight Rises</td>\n",
       "      <td>[{\"cast_id\": 2, \"character\": \"Bruce Wayne / Ba...</td>\n",
       "      <td>[{\"credit_id\": \"52fe4781c3a36847f81398c3\", \"de...</td>\n",
       "    </tr>\n",
       "    <tr>\n",
       "      <th>4</th>\n",
       "      <td>49529</td>\n",
       "      <td>John Carter</td>\n",
       "      <td>[{\"cast_id\": 5, \"character\": \"John Carter\", \"c...</td>\n",
       "      <td>[{\"credit_id\": \"52fe479ac3a36847f813eaa3\", \"de...</td>\n",
       "    </tr>\n",
       "  </tbody>\n",
       "</table>\n",
       "</div>"
      ],
      "text/plain": [
       "   movie_id                                     title  \\\n",
       "0     19995                                    Avatar   \n",
       "1       285  Pirates of the Caribbean: At World's End   \n",
       "2    206647                                   Spectre   \n",
       "3     49026                     The Dark Knight Rises   \n",
       "4     49529                               John Carter   \n",
       "\n",
       "                                                cast  \\\n",
       "0  [{\"cast_id\": 242, \"character\": \"Jake Sully\", \"...   \n",
       "1  [{\"cast_id\": 4, \"character\": \"Captain Jack Spa...   \n",
       "2  [{\"cast_id\": 1, \"character\": \"James Bond\", \"cr...   \n",
       "3  [{\"cast_id\": 2, \"character\": \"Bruce Wayne / Ba...   \n",
       "4  [{\"cast_id\": 5, \"character\": \"John Carter\", \"c...   \n",
       "\n",
       "                                                crew  \n",
       "0  [{\"credit_id\": \"52fe48009251416c750aca23\", \"de...  \n",
       "1  [{\"credit_id\": \"52fe4232c3a36847f800b579\", \"de...  \n",
       "2  [{\"credit_id\": \"54805967c3a36829b5002c41\", \"de...  \n",
       "3  [{\"credit_id\": \"52fe4781c3a36847f81398c3\", \"de...  \n",
       "4  [{\"credit_id\": \"52fe479ac3a36847f813eaa3\", \"de...  "
      ]
     },
     "execution_count": 3,
     "metadata": {},
     "output_type": "execute_result"
    }
   ],
   "source": [
    "credits.head()"
   ]
  },
  {
   "cell_type": "code",
   "execution_count": 4,
   "metadata": {
    "hidden": true
   },
   "outputs": [
    {
     "data": {
      "text/html": [
       "<div>\n",
       "<style scoped>\n",
       "    .dataframe tbody tr th:only-of-type {\n",
       "        vertical-align: middle;\n",
       "    }\n",
       "\n",
       "    .dataframe tbody tr th {\n",
       "        vertical-align: top;\n",
       "    }\n",
       "\n",
       "    .dataframe thead th {\n",
       "        text-align: right;\n",
       "    }\n",
       "</style>\n",
       "<table border=\"1\" class=\"dataframe\">\n",
       "  <thead>\n",
       "    <tr style=\"text-align: right;\">\n",
       "      <th></th>\n",
       "      <th>budget</th>\n",
       "      <th>genres</th>\n",
       "      <th>homepage</th>\n",
       "      <th>id</th>\n",
       "      <th>keywords</th>\n",
       "      <th>original_language</th>\n",
       "      <th>original_title</th>\n",
       "      <th>overview</th>\n",
       "      <th>popularity</th>\n",
       "      <th>production_companies</th>\n",
       "      <th>production_countries</th>\n",
       "      <th>release_date</th>\n",
       "      <th>revenue</th>\n",
       "      <th>runtime</th>\n",
       "      <th>spoken_languages</th>\n",
       "      <th>status</th>\n",
       "      <th>tagline</th>\n",
       "      <th>title</th>\n",
       "      <th>vote_average</th>\n",
       "      <th>vote_count</th>\n",
       "    </tr>\n",
       "  </thead>\n",
       "  <tbody>\n",
       "    <tr>\n",
       "      <th>0</th>\n",
       "      <td>237000000</td>\n",
       "      <td>[{\"id\": 28, \"name\": \"Action\"}, {\"id\": 12, \"nam...</td>\n",
       "      <td>http://www.avatarmovie.com/</td>\n",
       "      <td>19995</td>\n",
       "      <td>[{\"id\": 1463, \"name\": \"culture clash\"}, {\"id\":...</td>\n",
       "      <td>en</td>\n",
       "      <td>Avatar</td>\n",
       "      <td>In the 22nd century, a paraplegic Marine is di...</td>\n",
       "      <td>150.437577</td>\n",
       "      <td>[{\"name\": \"Ingenious Film Partners\", \"id\": 289...</td>\n",
       "      <td>[{\"iso_3166_1\": \"US\", \"name\": \"United States o...</td>\n",
       "      <td>2009-12-10</td>\n",
       "      <td>2787965087</td>\n",
       "      <td>162.0</td>\n",
       "      <td>[{\"iso_639_1\": \"en\", \"name\": \"English\"}, {\"iso...</td>\n",
       "      <td>Released</td>\n",
       "      <td>Enter the World of Pandora.</td>\n",
       "      <td>Avatar</td>\n",
       "      <td>7.2</td>\n",
       "      <td>11800</td>\n",
       "    </tr>\n",
       "    <tr>\n",
       "      <th>1</th>\n",
       "      <td>300000000</td>\n",
       "      <td>[{\"id\": 12, \"name\": \"Adventure\"}, {\"id\": 14, \"...</td>\n",
       "      <td>http://disney.go.com/disneypictures/pirates/</td>\n",
       "      <td>285</td>\n",
       "      <td>[{\"id\": 270, \"name\": \"ocean\"}, {\"id\": 726, \"na...</td>\n",
       "      <td>en</td>\n",
       "      <td>Pirates of the Caribbean: At World's End</td>\n",
       "      <td>Captain Barbossa, long believed to be dead, ha...</td>\n",
       "      <td>139.082615</td>\n",
       "      <td>[{\"name\": \"Walt Disney Pictures\", \"id\": 2}, {\"...</td>\n",
       "      <td>[{\"iso_3166_1\": \"US\", \"name\": \"United States o...</td>\n",
       "      <td>2007-05-19</td>\n",
       "      <td>961000000</td>\n",
       "      <td>169.0</td>\n",
       "      <td>[{\"iso_639_1\": \"en\", \"name\": \"English\"}]</td>\n",
       "      <td>Released</td>\n",
       "      <td>At the end of the world, the adventure begins.</td>\n",
       "      <td>Pirates of the Caribbean: At World's End</td>\n",
       "      <td>6.9</td>\n",
       "      <td>4500</td>\n",
       "    </tr>\n",
       "    <tr>\n",
       "      <th>2</th>\n",
       "      <td>245000000</td>\n",
       "      <td>[{\"id\": 28, \"name\": \"Action\"}, {\"id\": 12, \"nam...</td>\n",
       "      <td>http://www.sonypictures.com/movies/spectre/</td>\n",
       "      <td>206647</td>\n",
       "      <td>[{\"id\": 470, \"name\": \"spy\"}, {\"id\": 818, \"name...</td>\n",
       "      <td>en</td>\n",
       "      <td>Spectre</td>\n",
       "      <td>A cryptic message from Bond’s past sends him o...</td>\n",
       "      <td>107.376788</td>\n",
       "      <td>[{\"name\": \"Columbia Pictures\", \"id\": 5}, {\"nam...</td>\n",
       "      <td>[{\"iso_3166_1\": \"GB\", \"name\": \"United Kingdom\"...</td>\n",
       "      <td>2015-10-26</td>\n",
       "      <td>880674609</td>\n",
       "      <td>148.0</td>\n",
       "      <td>[{\"iso_639_1\": \"fr\", \"name\": \"Fran\\u00e7ais\"},...</td>\n",
       "      <td>Released</td>\n",
       "      <td>A Plan No One Escapes</td>\n",
       "      <td>Spectre</td>\n",
       "      <td>6.3</td>\n",
       "      <td>4466</td>\n",
       "    </tr>\n",
       "    <tr>\n",
       "      <th>3</th>\n",
       "      <td>250000000</td>\n",
       "      <td>[{\"id\": 28, \"name\": \"Action\"}, {\"id\": 80, \"nam...</td>\n",
       "      <td>http://www.thedarkknightrises.com/</td>\n",
       "      <td>49026</td>\n",
       "      <td>[{\"id\": 849, \"name\": \"dc comics\"}, {\"id\": 853,...</td>\n",
       "      <td>en</td>\n",
       "      <td>The Dark Knight Rises</td>\n",
       "      <td>Following the death of District Attorney Harve...</td>\n",
       "      <td>112.312950</td>\n",
       "      <td>[{\"name\": \"Legendary Pictures\", \"id\": 923}, {\"...</td>\n",
       "      <td>[{\"iso_3166_1\": \"US\", \"name\": \"United States o...</td>\n",
       "      <td>2012-07-16</td>\n",
       "      <td>1084939099</td>\n",
       "      <td>165.0</td>\n",
       "      <td>[{\"iso_639_1\": \"en\", \"name\": \"English\"}]</td>\n",
       "      <td>Released</td>\n",
       "      <td>The Legend Ends</td>\n",
       "      <td>The Dark Knight Rises</td>\n",
       "      <td>7.6</td>\n",
       "      <td>9106</td>\n",
       "    </tr>\n",
       "    <tr>\n",
       "      <th>4</th>\n",
       "      <td>260000000</td>\n",
       "      <td>[{\"id\": 28, \"name\": \"Action\"}, {\"id\": 12, \"nam...</td>\n",
       "      <td>http://movies.disney.com/john-carter</td>\n",
       "      <td>49529</td>\n",
       "      <td>[{\"id\": 818, \"name\": \"based on novel\"}, {\"id\":...</td>\n",
       "      <td>en</td>\n",
       "      <td>John Carter</td>\n",
       "      <td>John Carter is a war-weary, former military ca...</td>\n",
       "      <td>43.926995</td>\n",
       "      <td>[{\"name\": \"Walt Disney Pictures\", \"id\": 2}]</td>\n",
       "      <td>[{\"iso_3166_1\": \"US\", \"name\": \"United States o...</td>\n",
       "      <td>2012-03-07</td>\n",
       "      <td>284139100</td>\n",
       "      <td>132.0</td>\n",
       "      <td>[{\"iso_639_1\": \"en\", \"name\": \"English\"}]</td>\n",
       "      <td>Released</td>\n",
       "      <td>Lost in our world, found in another.</td>\n",
       "      <td>John Carter</td>\n",
       "      <td>6.1</td>\n",
       "      <td>2124</td>\n",
       "    </tr>\n",
       "  </tbody>\n",
       "</table>\n",
       "</div>"
      ],
      "text/plain": [
       "      budget                                             genres  \\\n",
       "0  237000000  [{\"id\": 28, \"name\": \"Action\"}, {\"id\": 12, \"nam...   \n",
       "1  300000000  [{\"id\": 12, \"name\": \"Adventure\"}, {\"id\": 14, \"...   \n",
       "2  245000000  [{\"id\": 28, \"name\": \"Action\"}, {\"id\": 12, \"nam...   \n",
       "3  250000000  [{\"id\": 28, \"name\": \"Action\"}, {\"id\": 80, \"nam...   \n",
       "4  260000000  [{\"id\": 28, \"name\": \"Action\"}, {\"id\": 12, \"nam...   \n",
       "\n",
       "                                       homepage      id  \\\n",
       "0                   http://www.avatarmovie.com/   19995   \n",
       "1  http://disney.go.com/disneypictures/pirates/     285   \n",
       "2   http://www.sonypictures.com/movies/spectre/  206647   \n",
       "3            http://www.thedarkknightrises.com/   49026   \n",
       "4          http://movies.disney.com/john-carter   49529   \n",
       "\n",
       "                                            keywords original_language  \\\n",
       "0  [{\"id\": 1463, \"name\": \"culture clash\"}, {\"id\":...                en   \n",
       "1  [{\"id\": 270, \"name\": \"ocean\"}, {\"id\": 726, \"na...                en   \n",
       "2  [{\"id\": 470, \"name\": \"spy\"}, {\"id\": 818, \"name...                en   \n",
       "3  [{\"id\": 849, \"name\": \"dc comics\"}, {\"id\": 853,...                en   \n",
       "4  [{\"id\": 818, \"name\": \"based on novel\"}, {\"id\":...                en   \n",
       "\n",
       "                             original_title  \\\n",
       "0                                    Avatar   \n",
       "1  Pirates of the Caribbean: At World's End   \n",
       "2                                   Spectre   \n",
       "3                     The Dark Knight Rises   \n",
       "4                               John Carter   \n",
       "\n",
       "                                            overview  popularity  \\\n",
       "0  In the 22nd century, a paraplegic Marine is di...  150.437577   \n",
       "1  Captain Barbossa, long believed to be dead, ha...  139.082615   \n",
       "2  A cryptic message from Bond’s past sends him o...  107.376788   \n",
       "3  Following the death of District Attorney Harve...  112.312950   \n",
       "4  John Carter is a war-weary, former military ca...   43.926995   \n",
       "\n",
       "                                production_companies  \\\n",
       "0  [{\"name\": \"Ingenious Film Partners\", \"id\": 289...   \n",
       "1  [{\"name\": \"Walt Disney Pictures\", \"id\": 2}, {\"...   \n",
       "2  [{\"name\": \"Columbia Pictures\", \"id\": 5}, {\"nam...   \n",
       "3  [{\"name\": \"Legendary Pictures\", \"id\": 923}, {\"...   \n",
       "4        [{\"name\": \"Walt Disney Pictures\", \"id\": 2}]   \n",
       "\n",
       "                                production_countries release_date     revenue  \\\n",
       "0  [{\"iso_3166_1\": \"US\", \"name\": \"United States o...   2009-12-10  2787965087   \n",
       "1  [{\"iso_3166_1\": \"US\", \"name\": \"United States o...   2007-05-19   961000000   \n",
       "2  [{\"iso_3166_1\": \"GB\", \"name\": \"United Kingdom\"...   2015-10-26   880674609   \n",
       "3  [{\"iso_3166_1\": \"US\", \"name\": \"United States o...   2012-07-16  1084939099   \n",
       "4  [{\"iso_3166_1\": \"US\", \"name\": \"United States o...   2012-03-07   284139100   \n",
       "\n",
       "   runtime                                   spoken_languages    status  \\\n",
       "0    162.0  [{\"iso_639_1\": \"en\", \"name\": \"English\"}, {\"iso...  Released   \n",
       "1    169.0           [{\"iso_639_1\": \"en\", \"name\": \"English\"}]  Released   \n",
       "2    148.0  [{\"iso_639_1\": \"fr\", \"name\": \"Fran\\u00e7ais\"},...  Released   \n",
       "3    165.0           [{\"iso_639_1\": \"en\", \"name\": \"English\"}]  Released   \n",
       "4    132.0           [{\"iso_639_1\": \"en\", \"name\": \"English\"}]  Released   \n",
       "\n",
       "                                          tagline  \\\n",
       "0                     Enter the World of Pandora.   \n",
       "1  At the end of the world, the adventure begins.   \n",
       "2                           A Plan No One Escapes   \n",
       "3                                 The Legend Ends   \n",
       "4            Lost in our world, found in another.   \n",
       "\n",
       "                                      title  vote_average  vote_count  \n",
       "0                                    Avatar           7.2       11800  \n",
       "1  Pirates of the Caribbean: At World's End           6.9        4500  \n",
       "2                                   Spectre           6.3        4466  \n",
       "3                     The Dark Knight Rises           7.6        9106  \n",
       "4                               John Carter           6.1        2124  "
      ]
     },
     "execution_count": 4,
     "metadata": {},
     "output_type": "execute_result"
    }
   ],
   "source": [
    "movies.head()"
   ]
  },
  {
   "cell_type": "code",
   "execution_count": 5,
   "metadata": {
    "hidden": true
   },
   "outputs": [
    {
     "data": {
      "text/plain": [
       "Index(['budget', 'genres', 'homepage', 'id', 'keywords', 'original_language',\n",
       "       'original_title', 'overview', 'popularity', 'production_companies',\n",
       "       'production_countries', 'release_date', 'revenue', 'runtime',\n",
       "       'spoken_languages', 'status', 'tagline', 'title', 'vote_average',\n",
       "       'vote_count'],\n",
       "      dtype='object')"
      ]
     },
     "execution_count": 5,
     "metadata": {},
     "output_type": "execute_result"
    }
   ],
   "source": [
    "movies.columns"
   ]
  },
  {
   "cell_type": "code",
   "execution_count": 6,
   "metadata": {
    "hidden": true
   },
   "outputs": [
    {
     "data": {
      "text/plain": [
       "Index(['movie_id', 'title', 'cast', 'crew'], dtype='object')"
      ]
     },
     "execution_count": 6,
     "metadata": {},
     "output_type": "execute_result"
    }
   ],
   "source": [
    "credits.dtypes\n",
    "credits.columns"
   ]
  },
  {
   "cell_type": "code",
   "execution_count": 7,
   "metadata": {
    "hidden": true
   },
   "outputs": [
    {
     "data": {
      "text/plain": [
       "(4803, 20)"
      ]
     },
     "execution_count": 7,
     "metadata": {},
     "output_type": "execute_result"
    }
   ],
   "source": [
    "movies.shape"
   ]
  },
  {
   "cell_type": "code",
   "execution_count": 8,
   "metadata": {
    "hidden": true
   },
   "outputs": [
    {
     "data": {
      "text/plain": [
       "(4803, 4)"
      ]
     },
     "execution_count": 8,
     "metadata": {},
     "output_type": "execute_result"
    }
   ],
   "source": [
    "credits.shape"
   ]
  },
  {
   "cell_type": "code",
   "execution_count": 9,
   "metadata": {
    "hidden": true
   },
   "outputs": [],
   "source": [
    "# Let's just transform the release date to a datetime type\n",
    "movies['release_date'] = pd.to_datetime(movies['release_date'])"
   ]
  },
  {
   "cell_type": "markdown",
   "metadata": {
    "heading_collapsed": true,
    "hidden": true
   },
   "source": [
    "## Merge credits and movie"
   ]
  },
  {
   "cell_type": "code",
   "execution_count": 10,
   "metadata": {
    "hidden": true
   },
   "outputs": [],
   "source": [
    "# credits and movies have a common column, title, that we need to drop\n",
    "movies.drop(columns='title', inplace=True)"
   ]
  },
  {
   "cell_type": "code",
   "execution_count": 11,
   "metadata": {
    "hidden": true
   },
   "outputs": [],
   "source": [
    "data = credits.merge(movies, left_on='movie_id', right_on='id')\n",
    "data.drop(columns='id', inplace=True)"
   ]
  },
  {
   "cell_type": "code",
   "execution_count": 12,
   "metadata": {
    "hidden": true
   },
   "outputs": [
    {
     "data": {
      "text/html": [
       "<div>\n",
       "<style scoped>\n",
       "    .dataframe tbody tr th:only-of-type {\n",
       "        vertical-align: middle;\n",
       "    }\n",
       "\n",
       "    .dataframe tbody tr th {\n",
       "        vertical-align: top;\n",
       "    }\n",
       "\n",
       "    .dataframe thead th {\n",
       "        text-align: right;\n",
       "    }\n",
       "</style>\n",
       "<table border=\"1\" class=\"dataframe\">\n",
       "  <thead>\n",
       "    <tr style=\"text-align: right;\">\n",
       "      <th></th>\n",
       "      <th>movie_id</th>\n",
       "      <th>title</th>\n",
       "      <th>cast</th>\n",
       "      <th>crew</th>\n",
       "      <th>budget</th>\n",
       "      <th>genres</th>\n",
       "      <th>homepage</th>\n",
       "      <th>keywords</th>\n",
       "      <th>original_language</th>\n",
       "      <th>original_title</th>\n",
       "      <th>...</th>\n",
       "      <th>production_companies</th>\n",
       "      <th>production_countries</th>\n",
       "      <th>release_date</th>\n",
       "      <th>revenue</th>\n",
       "      <th>runtime</th>\n",
       "      <th>spoken_languages</th>\n",
       "      <th>status</th>\n",
       "      <th>tagline</th>\n",
       "      <th>vote_average</th>\n",
       "      <th>vote_count</th>\n",
       "    </tr>\n",
       "  </thead>\n",
       "  <tbody>\n",
       "    <tr>\n",
       "      <th>0</th>\n",
       "      <td>19995</td>\n",
       "      <td>Avatar</td>\n",
       "      <td>[{\"cast_id\": 242, \"character\": \"Jake Sully\", \"...</td>\n",
       "      <td>[{\"credit_id\": \"52fe48009251416c750aca23\", \"de...</td>\n",
       "      <td>237000000</td>\n",
       "      <td>[{\"id\": 28, \"name\": \"Action\"}, {\"id\": 12, \"nam...</td>\n",
       "      <td>http://www.avatarmovie.com/</td>\n",
       "      <td>[{\"id\": 1463, \"name\": \"culture clash\"}, {\"id\":...</td>\n",
       "      <td>en</td>\n",
       "      <td>Avatar</td>\n",
       "      <td>...</td>\n",
       "      <td>[{\"name\": \"Ingenious Film Partners\", \"id\": 289...</td>\n",
       "      <td>[{\"iso_3166_1\": \"US\", \"name\": \"United States o...</td>\n",
       "      <td>2009-12-10</td>\n",
       "      <td>2787965087</td>\n",
       "      <td>162.0</td>\n",
       "      <td>[{\"iso_639_1\": \"en\", \"name\": \"English\"}, {\"iso...</td>\n",
       "      <td>Released</td>\n",
       "      <td>Enter the World of Pandora.</td>\n",
       "      <td>7.2</td>\n",
       "      <td>11800</td>\n",
       "    </tr>\n",
       "    <tr>\n",
       "      <th>1</th>\n",
       "      <td>285</td>\n",
       "      <td>Pirates of the Caribbean: At World's End</td>\n",
       "      <td>[{\"cast_id\": 4, \"character\": \"Captain Jack Spa...</td>\n",
       "      <td>[{\"credit_id\": \"52fe4232c3a36847f800b579\", \"de...</td>\n",
       "      <td>300000000</td>\n",
       "      <td>[{\"id\": 12, \"name\": \"Adventure\"}, {\"id\": 14, \"...</td>\n",
       "      <td>http://disney.go.com/disneypictures/pirates/</td>\n",
       "      <td>[{\"id\": 270, \"name\": \"ocean\"}, {\"id\": 726, \"na...</td>\n",
       "      <td>en</td>\n",
       "      <td>Pirates of the Caribbean: At World's End</td>\n",
       "      <td>...</td>\n",
       "      <td>[{\"name\": \"Walt Disney Pictures\", \"id\": 2}, {\"...</td>\n",
       "      <td>[{\"iso_3166_1\": \"US\", \"name\": \"United States o...</td>\n",
       "      <td>2007-05-19</td>\n",
       "      <td>961000000</td>\n",
       "      <td>169.0</td>\n",
       "      <td>[{\"iso_639_1\": \"en\", \"name\": \"English\"}]</td>\n",
       "      <td>Released</td>\n",
       "      <td>At the end of the world, the adventure begins.</td>\n",
       "      <td>6.9</td>\n",
       "      <td>4500</td>\n",
       "    </tr>\n",
       "    <tr>\n",
       "      <th>2</th>\n",
       "      <td>206647</td>\n",
       "      <td>Spectre</td>\n",
       "      <td>[{\"cast_id\": 1, \"character\": \"James Bond\", \"cr...</td>\n",
       "      <td>[{\"credit_id\": \"54805967c3a36829b5002c41\", \"de...</td>\n",
       "      <td>245000000</td>\n",
       "      <td>[{\"id\": 28, \"name\": \"Action\"}, {\"id\": 12, \"nam...</td>\n",
       "      <td>http://www.sonypictures.com/movies/spectre/</td>\n",
       "      <td>[{\"id\": 470, \"name\": \"spy\"}, {\"id\": 818, \"name...</td>\n",
       "      <td>en</td>\n",
       "      <td>Spectre</td>\n",
       "      <td>...</td>\n",
       "      <td>[{\"name\": \"Columbia Pictures\", \"id\": 5}, {\"nam...</td>\n",
       "      <td>[{\"iso_3166_1\": \"GB\", \"name\": \"United Kingdom\"...</td>\n",
       "      <td>2015-10-26</td>\n",
       "      <td>880674609</td>\n",
       "      <td>148.0</td>\n",
       "      <td>[{\"iso_639_1\": \"fr\", \"name\": \"Fran\\u00e7ais\"},...</td>\n",
       "      <td>Released</td>\n",
       "      <td>A Plan No One Escapes</td>\n",
       "      <td>6.3</td>\n",
       "      <td>4466</td>\n",
       "    </tr>\n",
       "    <tr>\n",
       "      <th>3</th>\n",
       "      <td>49026</td>\n",
       "      <td>The Dark Knight Rises</td>\n",
       "      <td>[{\"cast_id\": 2, \"character\": \"Bruce Wayne / Ba...</td>\n",
       "      <td>[{\"credit_id\": \"52fe4781c3a36847f81398c3\", \"de...</td>\n",
       "      <td>250000000</td>\n",
       "      <td>[{\"id\": 28, \"name\": \"Action\"}, {\"id\": 80, \"nam...</td>\n",
       "      <td>http://www.thedarkknightrises.com/</td>\n",
       "      <td>[{\"id\": 849, \"name\": \"dc comics\"}, {\"id\": 853,...</td>\n",
       "      <td>en</td>\n",
       "      <td>The Dark Knight Rises</td>\n",
       "      <td>...</td>\n",
       "      <td>[{\"name\": \"Legendary Pictures\", \"id\": 923}, {\"...</td>\n",
       "      <td>[{\"iso_3166_1\": \"US\", \"name\": \"United States o...</td>\n",
       "      <td>2012-07-16</td>\n",
       "      <td>1084939099</td>\n",
       "      <td>165.0</td>\n",
       "      <td>[{\"iso_639_1\": \"en\", \"name\": \"English\"}]</td>\n",
       "      <td>Released</td>\n",
       "      <td>The Legend Ends</td>\n",
       "      <td>7.6</td>\n",
       "      <td>9106</td>\n",
       "    </tr>\n",
       "    <tr>\n",
       "      <th>4</th>\n",
       "      <td>49529</td>\n",
       "      <td>John Carter</td>\n",
       "      <td>[{\"cast_id\": 5, \"character\": \"John Carter\", \"c...</td>\n",
       "      <td>[{\"credit_id\": \"52fe479ac3a36847f813eaa3\", \"de...</td>\n",
       "      <td>260000000</td>\n",
       "      <td>[{\"id\": 28, \"name\": \"Action\"}, {\"id\": 12, \"nam...</td>\n",
       "      <td>http://movies.disney.com/john-carter</td>\n",
       "      <td>[{\"id\": 818, \"name\": \"based on novel\"}, {\"id\":...</td>\n",
       "      <td>en</td>\n",
       "      <td>John Carter</td>\n",
       "      <td>...</td>\n",
       "      <td>[{\"name\": \"Walt Disney Pictures\", \"id\": 2}]</td>\n",
       "      <td>[{\"iso_3166_1\": \"US\", \"name\": \"United States o...</td>\n",
       "      <td>2012-03-07</td>\n",
       "      <td>284139100</td>\n",
       "      <td>132.0</td>\n",
       "      <td>[{\"iso_639_1\": \"en\", \"name\": \"English\"}]</td>\n",
       "      <td>Released</td>\n",
       "      <td>Lost in our world, found in another.</td>\n",
       "      <td>6.1</td>\n",
       "      <td>2124</td>\n",
       "    </tr>\n",
       "    <tr>\n",
       "      <th>...</th>\n",
       "      <td>...</td>\n",
       "      <td>...</td>\n",
       "      <td>...</td>\n",
       "      <td>...</td>\n",
       "      <td>...</td>\n",
       "      <td>...</td>\n",
       "      <td>...</td>\n",
       "      <td>...</td>\n",
       "      <td>...</td>\n",
       "      <td>...</td>\n",
       "      <td>...</td>\n",
       "      <td>...</td>\n",
       "      <td>...</td>\n",
       "      <td>...</td>\n",
       "      <td>...</td>\n",
       "      <td>...</td>\n",
       "      <td>...</td>\n",
       "      <td>...</td>\n",
       "      <td>...</td>\n",
       "      <td>...</td>\n",
       "      <td>...</td>\n",
       "    </tr>\n",
       "    <tr>\n",
       "      <th>4798</th>\n",
       "      <td>9367</td>\n",
       "      <td>El Mariachi</td>\n",
       "      <td>[{\"cast_id\": 1, \"character\": \"El Mariachi\", \"c...</td>\n",
       "      <td>[{\"credit_id\": \"52fe44eec3a36847f80b280b\", \"de...</td>\n",
       "      <td>220000</td>\n",
       "      <td>[{\"id\": 28, \"name\": \"Action\"}, {\"id\": 80, \"nam...</td>\n",
       "      <td>NaN</td>\n",
       "      <td>[{\"id\": 5616, \"name\": \"united states\\u2013mexi...</td>\n",
       "      <td>es</td>\n",
       "      <td>El Mariachi</td>\n",
       "      <td>...</td>\n",
       "      <td>[{\"name\": \"Columbia Pictures\", \"id\": 5}]</td>\n",
       "      <td>[{\"iso_3166_1\": \"MX\", \"name\": \"Mexico\"}, {\"iso...</td>\n",
       "      <td>1992-09-04</td>\n",
       "      <td>2040920</td>\n",
       "      <td>81.0</td>\n",
       "      <td>[{\"iso_639_1\": \"es\", \"name\": \"Espa\\u00f1ol\"}]</td>\n",
       "      <td>Released</td>\n",
       "      <td>He didn't come looking for trouble, but troubl...</td>\n",
       "      <td>6.6</td>\n",
       "      <td>238</td>\n",
       "    </tr>\n",
       "    <tr>\n",
       "      <th>4799</th>\n",
       "      <td>72766</td>\n",
       "      <td>Newlyweds</td>\n",
       "      <td>[{\"cast_id\": 1, \"character\": \"Buzzy\", \"credit_...</td>\n",
       "      <td>[{\"credit_id\": \"52fe487dc3a368484e0fb013\", \"de...</td>\n",
       "      <td>9000</td>\n",
       "      <td>[{\"id\": 35, \"name\": \"Comedy\"}, {\"id\": 10749, \"...</td>\n",
       "      <td>NaN</td>\n",
       "      <td>[]</td>\n",
       "      <td>en</td>\n",
       "      <td>Newlyweds</td>\n",
       "      <td>...</td>\n",
       "      <td>[]</td>\n",
       "      <td>[]</td>\n",
       "      <td>2011-12-26</td>\n",
       "      <td>0</td>\n",
       "      <td>85.0</td>\n",
       "      <td>[]</td>\n",
       "      <td>Released</td>\n",
       "      <td>A newlywed couple's honeymoon is upended by th...</td>\n",
       "      <td>5.9</td>\n",
       "      <td>5</td>\n",
       "    </tr>\n",
       "    <tr>\n",
       "      <th>4800</th>\n",
       "      <td>231617</td>\n",
       "      <td>Signed, Sealed, Delivered</td>\n",
       "      <td>[{\"cast_id\": 8, \"character\": \"Oliver O\\u2019To...</td>\n",
       "      <td>[{\"credit_id\": \"52fe4df3c3a36847f8275ecf\", \"de...</td>\n",
       "      <td>0</td>\n",
       "      <td>[{\"id\": 35, \"name\": \"Comedy\"}, {\"id\": 18, \"nam...</td>\n",
       "      <td>http://www.hallmarkchannel.com/signedsealeddel...</td>\n",
       "      <td>[{\"id\": 248, \"name\": \"date\"}, {\"id\": 699, \"nam...</td>\n",
       "      <td>en</td>\n",
       "      <td>Signed, Sealed, Delivered</td>\n",
       "      <td>...</td>\n",
       "      <td>[{\"name\": \"Front Street Pictures\", \"id\": 3958}...</td>\n",
       "      <td>[{\"iso_3166_1\": \"US\", \"name\": \"United States o...</td>\n",
       "      <td>2013-10-13</td>\n",
       "      <td>0</td>\n",
       "      <td>120.0</td>\n",
       "      <td>[{\"iso_639_1\": \"en\", \"name\": \"English\"}]</td>\n",
       "      <td>Released</td>\n",
       "      <td>NaN</td>\n",
       "      <td>7.0</td>\n",
       "      <td>6</td>\n",
       "    </tr>\n",
       "    <tr>\n",
       "      <th>4801</th>\n",
       "      <td>126186</td>\n",
       "      <td>Shanghai Calling</td>\n",
       "      <td>[{\"cast_id\": 3, \"character\": \"Sam\", \"credit_id...</td>\n",
       "      <td>[{\"credit_id\": \"52fe4ad9c3a368484e16a36b\", \"de...</td>\n",
       "      <td>0</td>\n",
       "      <td>[]</td>\n",
       "      <td>http://shanghaicalling.com/</td>\n",
       "      <td>[]</td>\n",
       "      <td>en</td>\n",
       "      <td>Shanghai Calling</td>\n",
       "      <td>...</td>\n",
       "      <td>[]</td>\n",
       "      <td>[{\"iso_3166_1\": \"US\", \"name\": \"United States o...</td>\n",
       "      <td>2012-05-03</td>\n",
       "      <td>0</td>\n",
       "      <td>98.0</td>\n",
       "      <td>[{\"iso_639_1\": \"en\", \"name\": \"English\"}]</td>\n",
       "      <td>Released</td>\n",
       "      <td>A New Yorker in Shanghai</td>\n",
       "      <td>5.7</td>\n",
       "      <td>7</td>\n",
       "    </tr>\n",
       "    <tr>\n",
       "      <th>4802</th>\n",
       "      <td>25975</td>\n",
       "      <td>My Date with Drew</td>\n",
       "      <td>[{\"cast_id\": 3, \"character\": \"Herself\", \"credi...</td>\n",
       "      <td>[{\"credit_id\": \"58ce021b9251415a390165d9\", \"de...</td>\n",
       "      <td>0</td>\n",
       "      <td>[{\"id\": 99, \"name\": \"Documentary\"}]</td>\n",
       "      <td>NaN</td>\n",
       "      <td>[{\"id\": 1523, \"name\": \"obsession\"}, {\"id\": 224...</td>\n",
       "      <td>en</td>\n",
       "      <td>My Date with Drew</td>\n",
       "      <td>...</td>\n",
       "      <td>[{\"name\": \"rusty bear entertainment\", \"id\": 87...</td>\n",
       "      <td>[{\"iso_3166_1\": \"US\", \"name\": \"United States o...</td>\n",
       "      <td>2005-08-05</td>\n",
       "      <td>0</td>\n",
       "      <td>90.0</td>\n",
       "      <td>[{\"iso_639_1\": \"en\", \"name\": \"English\"}]</td>\n",
       "      <td>Released</td>\n",
       "      <td>NaN</td>\n",
       "      <td>6.3</td>\n",
       "      <td>16</td>\n",
       "    </tr>\n",
       "  </tbody>\n",
       "</table>\n",
       "<p>4803 rows × 22 columns</p>\n",
       "</div>"
      ],
      "text/plain": [
       "      movie_id                                     title  \\\n",
       "0        19995                                    Avatar   \n",
       "1          285  Pirates of the Caribbean: At World's End   \n",
       "2       206647                                   Spectre   \n",
       "3        49026                     The Dark Knight Rises   \n",
       "4        49529                               John Carter   \n",
       "...        ...                                       ...   \n",
       "4798      9367                               El Mariachi   \n",
       "4799     72766                                 Newlyweds   \n",
       "4800    231617                 Signed, Sealed, Delivered   \n",
       "4801    126186                          Shanghai Calling   \n",
       "4802     25975                         My Date with Drew   \n",
       "\n",
       "                                                   cast  \\\n",
       "0     [{\"cast_id\": 242, \"character\": \"Jake Sully\", \"...   \n",
       "1     [{\"cast_id\": 4, \"character\": \"Captain Jack Spa...   \n",
       "2     [{\"cast_id\": 1, \"character\": \"James Bond\", \"cr...   \n",
       "3     [{\"cast_id\": 2, \"character\": \"Bruce Wayne / Ba...   \n",
       "4     [{\"cast_id\": 5, \"character\": \"John Carter\", \"c...   \n",
       "...                                                 ...   \n",
       "4798  [{\"cast_id\": 1, \"character\": \"El Mariachi\", \"c...   \n",
       "4799  [{\"cast_id\": 1, \"character\": \"Buzzy\", \"credit_...   \n",
       "4800  [{\"cast_id\": 8, \"character\": \"Oliver O\\u2019To...   \n",
       "4801  [{\"cast_id\": 3, \"character\": \"Sam\", \"credit_id...   \n",
       "4802  [{\"cast_id\": 3, \"character\": \"Herself\", \"credi...   \n",
       "\n",
       "                                                   crew     budget  \\\n",
       "0     [{\"credit_id\": \"52fe48009251416c750aca23\", \"de...  237000000   \n",
       "1     [{\"credit_id\": \"52fe4232c3a36847f800b579\", \"de...  300000000   \n",
       "2     [{\"credit_id\": \"54805967c3a36829b5002c41\", \"de...  245000000   \n",
       "3     [{\"credit_id\": \"52fe4781c3a36847f81398c3\", \"de...  250000000   \n",
       "4     [{\"credit_id\": \"52fe479ac3a36847f813eaa3\", \"de...  260000000   \n",
       "...                                                 ...        ...   \n",
       "4798  [{\"credit_id\": \"52fe44eec3a36847f80b280b\", \"de...     220000   \n",
       "4799  [{\"credit_id\": \"52fe487dc3a368484e0fb013\", \"de...       9000   \n",
       "4800  [{\"credit_id\": \"52fe4df3c3a36847f8275ecf\", \"de...          0   \n",
       "4801  [{\"credit_id\": \"52fe4ad9c3a368484e16a36b\", \"de...          0   \n",
       "4802  [{\"credit_id\": \"58ce021b9251415a390165d9\", \"de...          0   \n",
       "\n",
       "                                                 genres  \\\n",
       "0     [{\"id\": 28, \"name\": \"Action\"}, {\"id\": 12, \"nam...   \n",
       "1     [{\"id\": 12, \"name\": \"Adventure\"}, {\"id\": 14, \"...   \n",
       "2     [{\"id\": 28, \"name\": \"Action\"}, {\"id\": 12, \"nam...   \n",
       "3     [{\"id\": 28, \"name\": \"Action\"}, {\"id\": 80, \"nam...   \n",
       "4     [{\"id\": 28, \"name\": \"Action\"}, {\"id\": 12, \"nam...   \n",
       "...                                                 ...   \n",
       "4798  [{\"id\": 28, \"name\": \"Action\"}, {\"id\": 80, \"nam...   \n",
       "4799  [{\"id\": 35, \"name\": \"Comedy\"}, {\"id\": 10749, \"...   \n",
       "4800  [{\"id\": 35, \"name\": \"Comedy\"}, {\"id\": 18, \"nam...   \n",
       "4801                                                 []   \n",
       "4802                [{\"id\": 99, \"name\": \"Documentary\"}]   \n",
       "\n",
       "                                               homepage  \\\n",
       "0                           http://www.avatarmovie.com/   \n",
       "1          http://disney.go.com/disneypictures/pirates/   \n",
       "2           http://www.sonypictures.com/movies/spectre/   \n",
       "3                    http://www.thedarkknightrises.com/   \n",
       "4                  http://movies.disney.com/john-carter   \n",
       "...                                                 ...   \n",
       "4798                                                NaN   \n",
       "4799                                                NaN   \n",
       "4800  http://www.hallmarkchannel.com/signedsealeddel...   \n",
       "4801                        http://shanghaicalling.com/   \n",
       "4802                                                NaN   \n",
       "\n",
       "                                               keywords original_language  \\\n",
       "0     [{\"id\": 1463, \"name\": \"culture clash\"}, {\"id\":...                en   \n",
       "1     [{\"id\": 270, \"name\": \"ocean\"}, {\"id\": 726, \"na...                en   \n",
       "2     [{\"id\": 470, \"name\": \"spy\"}, {\"id\": 818, \"name...                en   \n",
       "3     [{\"id\": 849, \"name\": \"dc comics\"}, {\"id\": 853,...                en   \n",
       "4     [{\"id\": 818, \"name\": \"based on novel\"}, {\"id\":...                en   \n",
       "...                                                 ...               ...   \n",
       "4798  [{\"id\": 5616, \"name\": \"united states\\u2013mexi...                es   \n",
       "4799                                                 []                en   \n",
       "4800  [{\"id\": 248, \"name\": \"date\"}, {\"id\": 699, \"nam...                en   \n",
       "4801                                                 []                en   \n",
       "4802  [{\"id\": 1523, \"name\": \"obsession\"}, {\"id\": 224...                en   \n",
       "\n",
       "                                original_title  ...  \\\n",
       "0                                       Avatar  ...   \n",
       "1     Pirates of the Caribbean: At World's End  ...   \n",
       "2                                      Spectre  ...   \n",
       "3                        The Dark Knight Rises  ...   \n",
       "4                                  John Carter  ...   \n",
       "...                                        ...  ...   \n",
       "4798                               El Mariachi  ...   \n",
       "4799                                 Newlyweds  ...   \n",
       "4800                 Signed, Sealed, Delivered  ...   \n",
       "4801                          Shanghai Calling  ...   \n",
       "4802                         My Date with Drew  ...   \n",
       "\n",
       "                                   production_companies  \\\n",
       "0     [{\"name\": \"Ingenious Film Partners\", \"id\": 289...   \n",
       "1     [{\"name\": \"Walt Disney Pictures\", \"id\": 2}, {\"...   \n",
       "2     [{\"name\": \"Columbia Pictures\", \"id\": 5}, {\"nam...   \n",
       "3     [{\"name\": \"Legendary Pictures\", \"id\": 923}, {\"...   \n",
       "4           [{\"name\": \"Walt Disney Pictures\", \"id\": 2}]   \n",
       "...                                                 ...   \n",
       "4798           [{\"name\": \"Columbia Pictures\", \"id\": 5}]   \n",
       "4799                                                 []   \n",
       "4800  [{\"name\": \"Front Street Pictures\", \"id\": 3958}...   \n",
       "4801                                                 []   \n",
       "4802  [{\"name\": \"rusty bear entertainment\", \"id\": 87...   \n",
       "\n",
       "                                   production_countries release_date  \\\n",
       "0     [{\"iso_3166_1\": \"US\", \"name\": \"United States o...   2009-12-10   \n",
       "1     [{\"iso_3166_1\": \"US\", \"name\": \"United States o...   2007-05-19   \n",
       "2     [{\"iso_3166_1\": \"GB\", \"name\": \"United Kingdom\"...   2015-10-26   \n",
       "3     [{\"iso_3166_1\": \"US\", \"name\": \"United States o...   2012-07-16   \n",
       "4     [{\"iso_3166_1\": \"US\", \"name\": \"United States o...   2012-03-07   \n",
       "...                                                 ...          ...   \n",
       "4798  [{\"iso_3166_1\": \"MX\", \"name\": \"Mexico\"}, {\"iso...   1992-09-04   \n",
       "4799                                                 []   2011-12-26   \n",
       "4800  [{\"iso_3166_1\": \"US\", \"name\": \"United States o...   2013-10-13   \n",
       "4801  [{\"iso_3166_1\": \"US\", \"name\": \"United States o...   2012-05-03   \n",
       "4802  [{\"iso_3166_1\": \"US\", \"name\": \"United States o...   2005-08-05   \n",
       "\n",
       "         revenue runtime                                   spoken_languages  \\\n",
       "0     2787965087   162.0  [{\"iso_639_1\": \"en\", \"name\": \"English\"}, {\"iso...   \n",
       "1      961000000   169.0           [{\"iso_639_1\": \"en\", \"name\": \"English\"}]   \n",
       "2      880674609   148.0  [{\"iso_639_1\": \"fr\", \"name\": \"Fran\\u00e7ais\"},...   \n",
       "3     1084939099   165.0           [{\"iso_639_1\": \"en\", \"name\": \"English\"}]   \n",
       "4      284139100   132.0           [{\"iso_639_1\": \"en\", \"name\": \"English\"}]   \n",
       "...          ...     ...                                                ...   \n",
       "4798     2040920    81.0      [{\"iso_639_1\": \"es\", \"name\": \"Espa\\u00f1ol\"}]   \n",
       "4799           0    85.0                                                 []   \n",
       "4800           0   120.0           [{\"iso_639_1\": \"en\", \"name\": \"English\"}]   \n",
       "4801           0    98.0           [{\"iso_639_1\": \"en\", \"name\": \"English\"}]   \n",
       "4802           0    90.0           [{\"iso_639_1\": \"en\", \"name\": \"English\"}]   \n",
       "\n",
       "        status                                            tagline  \\\n",
       "0     Released                        Enter the World of Pandora.   \n",
       "1     Released     At the end of the world, the adventure begins.   \n",
       "2     Released                              A Plan No One Escapes   \n",
       "3     Released                                    The Legend Ends   \n",
       "4     Released               Lost in our world, found in another.   \n",
       "...        ...                                                ...   \n",
       "4798  Released  He didn't come looking for trouble, but troubl...   \n",
       "4799  Released  A newlywed couple's honeymoon is upended by th...   \n",
       "4800  Released                                                NaN   \n",
       "4801  Released                           A New Yorker in Shanghai   \n",
       "4802  Released                                                NaN   \n",
       "\n",
       "     vote_average vote_count  \n",
       "0             7.2      11800  \n",
       "1             6.9       4500  \n",
       "2             6.3       4466  \n",
       "3             7.6       9106  \n",
       "4             6.1       2124  \n",
       "...           ...        ...  \n",
       "4798          6.6        238  \n",
       "4799          5.9          5  \n",
       "4800          7.0          6  \n",
       "4801          5.7          7  \n",
       "4802          6.3         16  \n",
       "\n",
       "[4803 rows x 22 columns]"
      ]
     },
     "execution_count": 12,
     "metadata": {},
     "output_type": "execute_result"
    }
   ],
   "source": [
    "data"
   ]
  },
  {
   "cell_type": "code",
   "execution_count": 13,
   "metadata": {
    "hidden": true
   },
   "outputs": [],
   "source": [
    "data.set_index('movie_id', inplace=True)"
   ]
  },
  {
   "cell_type": "markdown",
   "metadata": {
    "heading_collapsed": true,
    "hidden": true
   },
   "source": [
    "## Removing missing values"
   ]
  },
  {
   "cell_type": "code",
   "execution_count": 14,
   "metadata": {
    "hidden": true
   },
   "outputs": [
    {
     "data": {
      "text/plain": [
       "title                      0\n",
       "cast                       0\n",
       "crew                       0\n",
       "budget                     0\n",
       "genres                     0\n",
       "homepage                3091\n",
       "keywords                   0\n",
       "original_language          0\n",
       "original_title             0\n",
       "overview                   3\n",
       "popularity                 0\n",
       "production_companies       0\n",
       "production_countries       0\n",
       "release_date               1\n",
       "revenue                    0\n",
       "runtime                    2\n",
       "spoken_languages           0\n",
       "status                     0\n",
       "tagline                  844\n",
       "vote_average               0\n",
       "vote_count                 0\n",
       "dtype: int64"
      ]
     },
     "execution_count": 14,
     "metadata": {},
     "output_type": "execute_result"
    }
   ],
   "source": [
    "data.isna().sum()"
   ]
  },
  {
   "cell_type": "markdown",
   "metadata": {
    "hidden": true
   },
   "source": [
    "We see that almost all homepages are missing, and as they are not particularly useful, removing completely the column should do. As for the release date and the runtime, we should be able to substitute a reasonable value. The most difficult is going to be working with the missing taglines, but we might end up not using them. "
   ]
  },
  {
   "cell_type": "code",
   "execution_count": 15,
   "metadata": {
    "hidden": true,
    "scrolled": true
   },
   "outputs": [],
   "source": [
    "# Let's take care of the missing release date\n",
    "data.drop(index=data[data['release_date'].isna()].index, inplace=True)\n",
    "# This particular movies was too recently released, and everything is missing so we drop it\n",
    "# It seems that we didn't take into account all the empty lists and null values "
   ]
  },
  {
   "cell_type": "code",
   "execution_count": 16,
   "metadata": {
    "hidden": true
   },
   "outputs": [],
   "source": [
    "chimameti = data[data['runtime'].isna()].index[0]\n",
    "frank_sinatra = data[data['runtime'].isna()].index[1]\n",
    "data.loc[chimameti, 'runtime'] = 113.0\n",
    "data.loc[frank_sinatra, 'runtime'] = 81.0"
   ]
  },
  {
   "cell_type": "markdown",
   "metadata": {
    "hidden": true
   },
   "source": [
    "We are going to differentiate in addition of the existing data types lists and strings. It's going to be important as the list have subattributes that can be extracted later, but also because the missing value manifests by an empty list which isn't considered NaN by pandas."
   ]
  },
  {
   "cell_type": "code",
   "execution_count": 17,
   "metadata": {
    "hidden": true
   },
   "outputs": [
    {
     "data": {
      "text/plain": [
       "title                           object\n",
       "cast                            object\n",
       "crew                            object\n",
       "budget                           int64\n",
       "genres                          object\n",
       "homepage                        object\n",
       "keywords                        object\n",
       "original_language               object\n",
       "original_title                  object\n",
       "overview                        object\n",
       "popularity                     float64\n",
       "production_companies            object\n",
       "production_countries            object\n",
       "release_date            datetime64[ns]\n",
       "revenue                          int64\n",
       "runtime                        float64\n",
       "spoken_languages                object\n",
       "status                          object\n",
       "tagline                         object\n",
       "vote_average                   float64\n",
       "vote_count                       int64\n",
       "dtype: object"
      ]
     },
     "execution_count": 17,
     "metadata": {},
     "output_type": "execute_result"
    }
   ],
   "source": [
    "data.dtypes"
   ]
  },
  {
   "cell_type": "code",
   "execution_count": 18,
   "metadata": {
    "hidden": true
   },
   "outputs": [
    {
     "data": {
      "text/plain": [
       "budget          1036\n",
       "popularity         0\n",
       "revenue         1426\n",
       "runtime           34\n",
       "vote_average      62\n",
       "vote_count        61\n",
       "dtype: int64"
      ]
     },
     "execution_count": 18,
     "metadata": {},
     "output_type": "execute_result"
    }
   ],
   "source": [
    "# Let's split the database by column type so that we can search for missing values properly\n",
    "(data.select_dtypes('number') == 0).sum()"
   ]
  },
  {
   "cell_type": "code",
   "execution_count": 19,
   "metadata": {
    "hidden": true
   },
   "outputs": [],
   "source": [
    "# Here we split the columns between strings and json \n",
    "str_cols, json_cols = [], []\n",
    "for column in data.select_dtypes('object'):\n",
    "    if data[column].iloc[0][0] == '[':\n",
    "        json_cols.append(column)\n",
    "    else :\n",
    "        str_cols.append(column)"
   ]
  },
  {
   "cell_type": "code",
   "execution_count": 20,
   "metadata": {
    "hidden": true
   },
   "outputs": [],
   "source": [
    "for column in data[json_cols]:\n",
    "    data[column] = data[column].map(eval)"
   ]
  },
  {
   "cell_type": "code",
   "execution_count": 21,
   "metadata": {
    "hidden": true,
    "scrolled": true
   },
   "outputs": [
    {
     "data": {
      "text/plain": [
       "cast                     42\n",
       "crew                     27\n",
       "genres                   27\n",
       "keywords                411\n",
       "production_companies    350\n",
       "production_countries    173\n",
       "spoken_languages         85\n",
       "dtype: int64"
      ]
     },
     "execution_count": 21,
     "metadata": {},
     "output_type": "execute_result"
    }
   ],
   "source": [
    "(data[json_cols].applymap(len) == 0).sum()"
   ]
  },
  {
   "cell_type": "code",
   "execution_count": 22,
   "metadata": {
    "hidden": true
   },
   "outputs": [
    {
     "data": {
      "text/plain": [
       "title                   0\n",
       "homepage             3090\n",
       "original_language       0\n",
       "original_title          0\n",
       "overview                3\n",
       "status                  0\n",
       "tagline               843\n",
       "dtype: int64"
      ]
     },
     "execution_count": 22,
     "metadata": {},
     "output_type": "execute_result"
    }
   ],
   "source": [
    "data[str_cols].isna().sum()"
   ]
  },
  {
   "cell_type": "code",
   "execution_count": 23,
   "metadata": {
    "hidden": true
   },
   "outputs": [],
   "source": [
    "chimameti_desc = 'A biopic of the rise of father Jorge Mario Bergoglio SJ from a teacher in a Jesuit High School in Argentina to archbishop and cardinal of Buenos Aires to Pope of the Roman Catholic Church. The story touches on his relation with his fellow Jesuits in Argentina and Europe, to his relation with laureate writer Jorge Luis Borges, Argentine dictator Jorge Rafael Videla, and archbishops Laghi (nuncio to Argentina) and Quarracino (cardinal of Buenos Aires), up to the moment where he is elected Pope in 2013'\n",
    "frank_sinatra_desc = 'The life of Frank Sinatra, as an actor and singer and the steps along the way that led him to become such an icon.'\n",
    "food_chains_desc = 'There is so much interest in food these days yet there is almost no interest in the hands that pick that food. In the US, farm labor has always been one of the most difficult and poorly paid jobs and has relied on some of the nation\\'s most vulnerable people. While the legal restrictions which kept people bound to farms, like slavery, have been abolished, exploitation still exists, ranging from wage theft to modern-day slavery. These days, this exploitation is perpetuated by the corporations at the top of the food chain: supermarkets. Their buying power has kept wages pitifully low and has created a scenario where desperately poor people are willing to put up with anything to keep their jobs.'"
   ]
  },
  {
   "cell_type": "code",
   "execution_count": 24,
   "metadata": {
    "hidden": true
   },
   "outputs": [
    {
     "data": {
      "text/html": [
       "<div>\n",
       "<style scoped>\n",
       "    .dataframe tbody tr th:only-of-type {\n",
       "        vertical-align: middle;\n",
       "    }\n",
       "\n",
       "    .dataframe tbody tr th {\n",
       "        vertical-align: top;\n",
       "    }\n",
       "\n",
       "    .dataframe thead th {\n",
       "        text-align: right;\n",
       "    }\n",
       "</style>\n",
       "<table border=\"1\" class=\"dataframe\">\n",
       "  <thead>\n",
       "    <tr style=\"text-align: right;\">\n",
       "      <th></th>\n",
       "      <th>title</th>\n",
       "      <th>cast</th>\n",
       "      <th>crew</th>\n",
       "      <th>budget</th>\n",
       "      <th>genres</th>\n",
       "      <th>homepage</th>\n",
       "      <th>keywords</th>\n",
       "      <th>original_language</th>\n",
       "      <th>original_title</th>\n",
       "      <th>overview</th>\n",
       "      <th>...</th>\n",
       "      <th>production_companies</th>\n",
       "      <th>production_countries</th>\n",
       "      <th>release_date</th>\n",
       "      <th>revenue</th>\n",
       "      <th>runtime</th>\n",
       "      <th>spoken_languages</th>\n",
       "      <th>status</th>\n",
       "      <th>tagline</th>\n",
       "      <th>vote_average</th>\n",
       "      <th>vote_count</th>\n",
       "    </tr>\n",
       "    <tr>\n",
       "      <th>movie_id</th>\n",
       "      <th></th>\n",
       "      <th></th>\n",
       "      <th></th>\n",
       "      <th></th>\n",
       "      <th></th>\n",
       "      <th></th>\n",
       "      <th></th>\n",
       "      <th></th>\n",
       "      <th></th>\n",
       "      <th></th>\n",
       "      <th></th>\n",
       "      <th></th>\n",
       "      <th></th>\n",
       "      <th></th>\n",
       "      <th></th>\n",
       "      <th></th>\n",
       "      <th></th>\n",
       "      <th></th>\n",
       "      <th></th>\n",
       "      <th></th>\n",
       "      <th></th>\n",
       "    </tr>\n",
       "  </thead>\n",
       "  <tbody>\n",
       "    <tr>\n",
       "      <th>370980</th>\n",
       "      <td>Chiamatemi Francesco - Il Papa della gente</td>\n",
       "      <td>[{'cast_id': 5, 'character': 'Jorge Mario Berg...</td>\n",
       "      <td>[{'credit_id': '5660019ac3a36875f100252b', 'de...</td>\n",
       "      <td>15000000</td>\n",
       "      <td>[{'id': 18, 'name': 'Drama'}]</td>\n",
       "      <td>NaN</td>\n",
       "      <td>[{'id': 717, 'name': 'pope'}, {'id': 5565, 'na...</td>\n",
       "      <td>it</td>\n",
       "      <td>Chiamatemi Francesco - Il Papa della gente</td>\n",
       "      <td>NaN</td>\n",
       "      <td>...</td>\n",
       "      <td>[{'name': 'Taodue Film', 'id': 45724}]</td>\n",
       "      <td>[{'iso_3166_1': 'IT', 'name': 'Italy'}]</td>\n",
       "      <td>2015-12-03</td>\n",
       "      <td>0</td>\n",
       "      <td>113.0</td>\n",
       "      <td>[{'iso_639_1': 'es', 'name': 'Español'}]</td>\n",
       "      <td>Released</td>\n",
       "      <td>NaN</td>\n",
       "      <td>7.3</td>\n",
       "      <td>12</td>\n",
       "    </tr>\n",
       "    <tr>\n",
       "      <th>459488</th>\n",
       "      <td>To Be Frank, Sinatra at 100</td>\n",
       "      <td>[{'cast_id': 0, 'character': 'Narrator', 'cred...</td>\n",
       "      <td>[{'credit_id': '592b25e4c3a368783e065a2f', 'de...</td>\n",
       "      <td>2</td>\n",
       "      <td>[{'id': 99, 'name': 'Documentary'}]</td>\n",
       "      <td>NaN</td>\n",
       "      <td>[{'id': 6027, 'name': 'music'}, {'id': 225822,...</td>\n",
       "      <td>en</td>\n",
       "      <td>To Be Frank, Sinatra at 100</td>\n",
       "      <td>NaN</td>\n",
       "      <td>...</td>\n",
       "      <td>[{'name': 'Eyeline Entertainment', 'id': 60343}]</td>\n",
       "      <td>[{'iso_3166_1': 'GB', 'name': 'United Kingdom'}]</td>\n",
       "      <td>2015-12-12</td>\n",
       "      <td>0</td>\n",
       "      <td>81.0</td>\n",
       "      <td>[]</td>\n",
       "      <td>Released</td>\n",
       "      <td>NaN</td>\n",
       "      <td>0.0</td>\n",
       "      <td>0</td>\n",
       "    </tr>\n",
       "    <tr>\n",
       "      <th>292539</th>\n",
       "      <td>Food Chains</td>\n",
       "      <td>[]</td>\n",
       "      <td>[{'credit_id': '5470c3b1c3a368085e000abd', 'de...</td>\n",
       "      <td>913000</td>\n",
       "      <td>[{'id': 99, 'name': 'Documentary'}]</td>\n",
       "      <td>NaN</td>\n",
       "      <td>[]</td>\n",
       "      <td>de</td>\n",
       "      <td>Food Chains</td>\n",
       "      <td>NaN</td>\n",
       "      <td>...</td>\n",
       "      <td>[]</td>\n",
       "      <td>[]</td>\n",
       "      <td>2014-04-26</td>\n",
       "      <td>0</td>\n",
       "      <td>83.0</td>\n",
       "      <td>[{'iso_639_1': 'en', 'name': 'English'}]</td>\n",
       "      <td>Released</td>\n",
       "      <td>NaN</td>\n",
       "      <td>7.4</td>\n",
       "      <td>8</td>\n",
       "    </tr>\n",
       "  </tbody>\n",
       "</table>\n",
       "<p>3 rows × 21 columns</p>\n",
       "</div>"
      ],
      "text/plain": [
       "                                               title  \\\n",
       "movie_id                                               \n",
       "370980    Chiamatemi Francesco - Il Papa della gente   \n",
       "459488                   To Be Frank, Sinatra at 100   \n",
       "292539                                   Food Chains   \n",
       "\n",
       "                                                       cast  \\\n",
       "movie_id                                                      \n",
       "370980    [{'cast_id': 5, 'character': 'Jorge Mario Berg...   \n",
       "459488    [{'cast_id': 0, 'character': 'Narrator', 'cred...   \n",
       "292539                                                   []   \n",
       "\n",
       "                                                       crew    budget  \\\n",
       "movie_id                                                                \n",
       "370980    [{'credit_id': '5660019ac3a36875f100252b', 'de...  15000000   \n",
       "459488    [{'credit_id': '592b25e4c3a368783e065a2f', 'de...         2   \n",
       "292539    [{'credit_id': '5470c3b1c3a368085e000abd', 'de...    913000   \n",
       "\n",
       "                                       genres homepage  \\\n",
       "movie_id                                                 \n",
       "370980          [{'id': 18, 'name': 'Drama'}]      NaN   \n",
       "459488    [{'id': 99, 'name': 'Documentary'}]      NaN   \n",
       "292539    [{'id': 99, 'name': 'Documentary'}]      NaN   \n",
       "\n",
       "                                                   keywords original_language  \\\n",
       "movie_id                                                                        \n",
       "370980    [{'id': 717, 'name': 'pope'}, {'id': 5565, 'na...                it   \n",
       "459488    [{'id': 6027, 'name': 'music'}, {'id': 225822,...                en   \n",
       "292539                                                   []                de   \n",
       "\n",
       "                                      original_title overview  ...  \\\n",
       "movie_id                                                       ...   \n",
       "370980    Chiamatemi Francesco - Il Papa della gente      NaN  ...   \n",
       "459488                   To Be Frank, Sinatra at 100      NaN  ...   \n",
       "292539                                   Food Chains      NaN  ...   \n",
       "\n",
       "                                      production_companies  \\\n",
       "movie_id                                                     \n",
       "370980              [{'name': 'Taodue Film', 'id': 45724}]   \n",
       "459488    [{'name': 'Eyeline Entertainment', 'id': 60343}]   \n",
       "292539                                                  []   \n",
       "\n",
       "                                      production_countries release_date  \\\n",
       "movie_id                                                                  \n",
       "370980             [{'iso_3166_1': 'IT', 'name': 'Italy'}]   2015-12-03   \n",
       "459488    [{'iso_3166_1': 'GB', 'name': 'United Kingdom'}]   2015-12-12   \n",
       "292539                                                  []   2014-04-26   \n",
       "\n",
       "         revenue  runtime                          spoken_languages    status  \\\n",
       "movie_id                                                                        \n",
       "370980         0    113.0  [{'iso_639_1': 'es', 'name': 'Español'}]  Released   \n",
       "459488         0     81.0                                        []  Released   \n",
       "292539         0     83.0  [{'iso_639_1': 'en', 'name': 'English'}]  Released   \n",
       "\n",
       "         tagline vote_average  vote_count  \n",
       "movie_id                                   \n",
       "370980       NaN          7.3          12  \n",
       "459488       NaN          0.0           0  \n",
       "292539       NaN          7.4           8  \n",
       "\n",
       "[3 rows x 21 columns]"
      ]
     },
     "execution_count": 24,
     "metadata": {},
     "output_type": "execute_result"
    }
   ],
   "source": [
    "data[data['overview'].isna()]"
   ]
  },
  {
   "cell_type": "code",
   "execution_count": 25,
   "metadata": {
    "hidden": true
   },
   "outputs": [],
   "source": [
    "# Let's fill in manually the missing overviews\n",
    "data.loc[chimameti, 'overview'] = chimameti_desc\n",
    "data.loc[frank_sinatra, 'overview'] = frank_sinatra_desc\n",
    "data.loc[data['overview'].isna(), 'overview'] = food_chains_desc"
   ]
  },
  {
   "cell_type": "code",
   "execution_count": 26,
   "metadata": {
    "hidden": true
   },
   "outputs": [],
   "source": [
    "data.drop(columns='homepage', inplace=True)"
   ]
  },
  {
   "cell_type": "markdown",
   "metadata": {
    "hidden": true
   },
   "source": [
    "We delete the lines where cast or crew is missing because it would be much more work to recover these information and only a few are missing. "
   ]
  },
  {
   "cell_type": "code",
   "execution_count": 27,
   "metadata": {
    "hidden": true
   },
   "outputs": [],
   "source": [
    "data.drop(index=data[data['crew'].map(len) == 0].index, inplace=True)\n",
    "data.drop(index=data[data['cast'].map(len) == 0].index, inplace=True)"
   ]
  },
  {
   "cell_type": "markdown",
   "metadata": {
    "hidden": true
   },
   "source": [
    "Now we need to consider all the 'list' missing values. Those are more difficult to handle because they involve ids and conventions from the database. It's relatively easy to scrap imdb but less to match the info we can get there with the ones we already have. We will leave this part for when we have a specific id of our need in terms of missing values. "
   ]
  },
  {
   "cell_type": "markdown",
   "metadata": {
    "heading_collapsed": true,
    "hidden": true
   },
   "source": [
    "## Transforming jsons into lists"
   ]
  },
  {
   "cell_type": "markdown",
   "metadata": {
    "hidden": true
   },
   "source": [
    "We have multiple json columns, which will be more easy to manipulate once transformed into lists. But first let's create a directors column."
   ]
  },
  {
   "cell_type": "code",
   "execution_count": 28,
   "metadata": {
    "hidden": true
   },
   "outputs": [
    {
     "data": {
      "text/plain": [
       "['cast',\n",
       " 'crew',\n",
       " 'genres',\n",
       " 'keywords',\n",
       " 'production_companies',\n",
       " 'production_countries',\n",
       " 'spoken_languages']"
      ]
     },
     "execution_count": 28,
     "metadata": {},
     "output_type": "execute_result"
    }
   ],
   "source": [
    "json_cols"
   ]
  },
  {
   "cell_type": "code",
   "execution_count": 29,
   "metadata": {
    "hidden": true
   },
   "outputs": [],
   "source": [
    "def to_director(crew):\n",
    "    directors = [crew_member['name'] for crew_member in crew if crew_member['job'] == 'Director']\n",
    "    return 'NoDirector' if len(directors) == 0 else [directors[0]]"
   ]
  },
  {
   "cell_type": "code",
   "execution_count": 30,
   "metadata": {
    "hidden": true
   },
   "outputs": [],
   "source": [
    "# Some crews contain multiple directors but those are rare, so we will take the first one, and drop the movies without any\n",
    "data['director'] = data['crew'].apply(to_director)\n",
    "data.drop(data[data.director == 'NoDirector'].index, inplace=True)"
   ]
  },
  {
   "cell_type": "code",
   "execution_count": 31,
   "metadata": {
    "hidden": true
   },
   "outputs": [],
   "source": [
    "def json_to_list(json):\n",
    "    return [element['name'] for element in json]"
   ]
  },
  {
   "cell_type": "code",
   "execution_count": 32,
   "metadata": {
    "hidden": true
   },
   "outputs": [],
   "source": [
    "data[json_cols] = data[json_cols].applymap(json_to_list)"
   ]
  },
  {
   "cell_type": "code",
   "execution_count": 33,
   "metadata": {
    "hidden": true
   },
   "outputs": [
    {
     "data": {
      "text/html": [
       "<div>\n",
       "<style scoped>\n",
       "    .dataframe tbody tr th:only-of-type {\n",
       "        vertical-align: middle;\n",
       "    }\n",
       "\n",
       "    .dataframe tbody tr th {\n",
       "        vertical-align: top;\n",
       "    }\n",
       "\n",
       "    .dataframe thead th {\n",
       "        text-align: right;\n",
       "    }\n",
       "</style>\n",
       "<table border=\"1\" class=\"dataframe\">\n",
       "  <thead>\n",
       "    <tr style=\"text-align: right;\">\n",
       "      <th></th>\n",
       "      <th>cast</th>\n",
       "      <th>crew</th>\n",
       "      <th>genres</th>\n",
       "      <th>keywords</th>\n",
       "      <th>production_companies</th>\n",
       "      <th>production_countries</th>\n",
       "      <th>spoken_languages</th>\n",
       "    </tr>\n",
       "    <tr>\n",
       "      <th>movie_id</th>\n",
       "      <th></th>\n",
       "      <th></th>\n",
       "      <th></th>\n",
       "      <th></th>\n",
       "      <th></th>\n",
       "      <th></th>\n",
       "      <th></th>\n",
       "    </tr>\n",
       "  </thead>\n",
       "  <tbody>\n",
       "    <tr>\n",
       "      <th>19995</th>\n",
       "      <td>[Sam Worthington, Zoe Saldana, Sigourney Weave...</td>\n",
       "      <td>[Stephen E. Rivkin, Rick Carter, Christopher B...</td>\n",
       "      <td>[Action, Adventure, Fantasy, Science Fiction]</td>\n",
       "      <td>[culture clash, future, space war, space colon...</td>\n",
       "      <td>[Ingenious Film Partners, Twentieth Century Fo...</td>\n",
       "      <td>[United States of America, United Kingdom]</td>\n",
       "      <td>[English, Español]</td>\n",
       "    </tr>\n",
       "    <tr>\n",
       "      <th>285</th>\n",
       "      <td>[Johnny Depp, Orlando Bloom, Keira Knightley, ...</td>\n",
       "      <td>[Dariusz Wolski, Gore Verbinski, Jerry Bruckhe...</td>\n",
       "      <td>[Adventure, Fantasy, Action]</td>\n",
       "      <td>[ocean, drug abuse, exotic island, east india ...</td>\n",
       "      <td>[Walt Disney Pictures, Jerry Bruckheimer Films...</td>\n",
       "      <td>[United States of America]</td>\n",
       "      <td>[English]</td>\n",
       "    </tr>\n",
       "    <tr>\n",
       "      <th>206647</th>\n",
       "      <td>[Daniel Craig, Christoph Waltz, Léa Seydoux, R...</td>\n",
       "      <td>[Thomas Newman, Sam Mendes, Anna Pinnock, John...</td>\n",
       "      <td>[Action, Adventure, Crime]</td>\n",
       "      <td>[spy, based on novel, secret agent, sequel, mi...</td>\n",
       "      <td>[Columbia Pictures, Danjaq, B24]</td>\n",
       "      <td>[United Kingdom, United States of America]</td>\n",
       "      <td>[Français, English, Español, Italiano, Deutsch]</td>\n",
       "    </tr>\n",
       "    <tr>\n",
       "      <th>49026</th>\n",
       "      <td>[Christian Bale, Michael Caine, Gary Oldman, A...</td>\n",
       "      <td>[Hans Zimmer, Charles Roven, Christopher Nolan...</td>\n",
       "      <td>[Action, Crime, Drama, Thriller]</td>\n",
       "      <td>[dc comics, crime fighter, terrorist, secret i...</td>\n",
       "      <td>[Legendary Pictures, Warner Bros., DC Entertai...</td>\n",
       "      <td>[United States of America]</td>\n",
       "      <td>[English]</td>\n",
       "    </tr>\n",
       "    <tr>\n",
       "      <th>49529</th>\n",
       "      <td>[Taylor Kitsch, Lynn Collins, Samantha Morton,...</td>\n",
       "      <td>[Andrew Stanton, Andrew Stanton, John Lasseter...</td>\n",
       "      <td>[Action, Adventure, Science Fiction]</td>\n",
       "      <td>[based on novel, mars, medallion, space travel...</td>\n",
       "      <td>[Walt Disney Pictures]</td>\n",
       "      <td>[United States of America]</td>\n",
       "      <td>[English]</td>\n",
       "    </tr>\n",
       "  </tbody>\n",
       "</table>\n",
       "</div>"
      ],
      "text/plain": [
       "                                                       cast  \\\n",
       "movie_id                                                      \n",
       "19995     [Sam Worthington, Zoe Saldana, Sigourney Weave...   \n",
       "285       [Johnny Depp, Orlando Bloom, Keira Knightley, ...   \n",
       "206647    [Daniel Craig, Christoph Waltz, Léa Seydoux, R...   \n",
       "49026     [Christian Bale, Michael Caine, Gary Oldman, A...   \n",
       "49529     [Taylor Kitsch, Lynn Collins, Samantha Morton,...   \n",
       "\n",
       "                                                       crew  \\\n",
       "movie_id                                                      \n",
       "19995     [Stephen E. Rivkin, Rick Carter, Christopher B...   \n",
       "285       [Dariusz Wolski, Gore Verbinski, Jerry Bruckhe...   \n",
       "206647    [Thomas Newman, Sam Mendes, Anna Pinnock, John...   \n",
       "49026     [Hans Zimmer, Charles Roven, Christopher Nolan...   \n",
       "49529     [Andrew Stanton, Andrew Stanton, John Lasseter...   \n",
       "\n",
       "                                                 genres  \\\n",
       "movie_id                                                  \n",
       "19995     [Action, Adventure, Fantasy, Science Fiction]   \n",
       "285                        [Adventure, Fantasy, Action]   \n",
       "206647                       [Action, Adventure, Crime]   \n",
       "49026                  [Action, Crime, Drama, Thriller]   \n",
       "49529              [Action, Adventure, Science Fiction]   \n",
       "\n",
       "                                                   keywords  \\\n",
       "movie_id                                                      \n",
       "19995     [culture clash, future, space war, space colon...   \n",
       "285       [ocean, drug abuse, exotic island, east india ...   \n",
       "206647    [spy, based on novel, secret agent, sequel, mi...   \n",
       "49026     [dc comics, crime fighter, terrorist, secret i...   \n",
       "49529     [based on novel, mars, medallion, space travel...   \n",
       "\n",
       "                                       production_companies  \\\n",
       "movie_id                                                      \n",
       "19995     [Ingenious Film Partners, Twentieth Century Fo...   \n",
       "285       [Walt Disney Pictures, Jerry Bruckheimer Films...   \n",
       "206647                     [Columbia Pictures, Danjaq, B24]   \n",
       "49026     [Legendary Pictures, Warner Bros., DC Entertai...   \n",
       "49529                                [Walt Disney Pictures]   \n",
       "\n",
       "                                production_countries  \\\n",
       "movie_id                                               \n",
       "19995     [United States of America, United Kingdom]   \n",
       "285                       [United States of America]   \n",
       "206647    [United Kingdom, United States of America]   \n",
       "49026                     [United States of America]   \n",
       "49529                     [United States of America]   \n",
       "\n",
       "                                         spoken_languages  \n",
       "movie_id                                                   \n",
       "19995                                  [English, Español]  \n",
       "285                                             [English]  \n",
       "206647    [Français, English, Español, Italiano, Deutsch]  \n",
       "49026                                           [English]  \n",
       "49529                                           [English]  "
      ]
     },
     "execution_count": 33,
     "metadata": {},
     "output_type": "execute_result"
    }
   ],
   "source": [
    "data[json_cols].head()"
   ]
  },
  {
   "cell_type": "code",
   "execution_count": 34,
   "metadata": {
    "hidden": true
   },
   "outputs": [],
   "source": [
    "json_cols += 'director'"
   ]
  },
  {
   "cell_type": "markdown",
   "metadata": {
    "heading_collapsed": true
   },
   "source": [
    "# Initial analysis"
   ]
  },
  {
   "cell_type": "markdown",
   "metadata": {
    "heading_collapsed": true,
    "hidden": true
   },
   "source": [
    "## Descriptive statistics"
   ]
  },
  {
   "cell_type": "code",
   "execution_count": 35,
   "metadata": {
    "hidden": true
   },
   "outputs": [],
   "source": [
    "import ast"
   ]
  },
  {
   "cell_type": "code",
   "execution_count": 36,
   "metadata": {
    "hidden": true
   },
   "outputs": [],
   "source": [
    "import matplotlib.pyplot as plt"
   ]
  },
  {
   "cell_type": "code",
   "execution_count": 37,
   "metadata": {
    "hidden": true
   },
   "outputs": [],
   "source": [
    "import datetime"
   ]
  },
  {
   "cell_type": "code",
   "execution_count": 38,
   "metadata": {
    "hidden": true
   },
   "outputs": [],
   "source": [
    "import numpy as np"
   ]
  },
  {
   "cell_type": "code",
   "execution_count": 39,
   "metadata": {
    "hidden": true
   },
   "outputs": [],
   "source": [
    "import seaborn as sns"
   ]
  },
  {
   "cell_type": "code",
   "execution_count": 40,
   "metadata": {
    "hidden": true
   },
   "outputs": [
    {
     "data": {
      "text/html": [
       "<div>\n",
       "<style scoped>\n",
       "    .dataframe tbody tr th:only-of-type {\n",
       "        vertical-align: middle;\n",
       "    }\n",
       "\n",
       "    .dataframe tbody tr th {\n",
       "        vertical-align: top;\n",
       "    }\n",
       "\n",
       "    .dataframe thead th {\n",
       "        text-align: right;\n",
       "    }\n",
       "</style>\n",
       "<table border=\"1\" class=\"dataframe\">\n",
       "  <thead>\n",
       "    <tr style=\"text-align: right;\">\n",
       "      <th></th>\n",
       "      <th>budget</th>\n",
       "      <th>popularity</th>\n",
       "      <th>revenue</th>\n",
       "      <th>runtime</th>\n",
       "      <th>vote_average</th>\n",
       "      <th>vote_count</th>\n",
       "    </tr>\n",
       "  </thead>\n",
       "  <tbody>\n",
       "    <tr>\n",
       "      <th>count</th>\n",
       "      <td>4.751000e+03</td>\n",
       "      <td>4751.000000</td>\n",
       "      <td>4.751000e+03</td>\n",
       "      <td>4751.000000</td>\n",
       "      <td>4751.000000</td>\n",
       "      <td>4751.000000</td>\n",
       "    </tr>\n",
       "    <tr>\n",
       "      <th>mean</th>\n",
       "      <td>2.935914e+07</td>\n",
       "      <td>21.725186</td>\n",
       "      <td>8.315294e+07</td>\n",
       "      <td>107.334877</td>\n",
       "      <td>6.115113</td>\n",
       "      <td>697.741107</td>\n",
       "    </tr>\n",
       "    <tr>\n",
       "      <th>std</th>\n",
       "      <td>4.083306e+07</td>\n",
       "      <td>31.911891</td>\n",
       "      <td>1.635206e+08</td>\n",
       "      <td>21.840986</td>\n",
       "      <td>1.125381</td>\n",
       "      <td>1239.217251</td>\n",
       "    </tr>\n",
       "    <tr>\n",
       "      <th>min</th>\n",
       "      <td>0.000000e+00</td>\n",
       "      <td>0.000372</td>\n",
       "      <td>0.000000e+00</td>\n",
       "      <td>0.000000</td>\n",
       "      <td>0.000000</td>\n",
       "      <td>0.000000</td>\n",
       "    </tr>\n",
       "    <tr>\n",
       "      <th>25%</th>\n",
       "      <td>1.000000e+06</td>\n",
       "      <td>4.925587</td>\n",
       "      <td>0.000000e+00</td>\n",
       "      <td>94.000000</td>\n",
       "      <td>5.600000</td>\n",
       "      <td>57.000000</td>\n",
       "    </tr>\n",
       "    <tr>\n",
       "      <th>50%</th>\n",
       "      <td>1.500000e+07</td>\n",
       "      <td>13.244365</td>\n",
       "      <td>1.980000e+07</td>\n",
       "      <td>104.000000</td>\n",
       "      <td>6.200000</td>\n",
       "      <td>241.000000</td>\n",
       "    </tr>\n",
       "    <tr>\n",
       "      <th>75%</th>\n",
       "      <td>4.000000e+07</td>\n",
       "      <td>28.609656</td>\n",
       "      <td>9.400000e+07</td>\n",
       "      <td>118.000000</td>\n",
       "      <td>6.800000</td>\n",
       "      <td>749.500000</td>\n",
       "    </tr>\n",
       "    <tr>\n",
       "      <th>max</th>\n",
       "      <td>3.800000e+08</td>\n",
       "      <td>875.581305</td>\n",
       "      <td>2.787965e+09</td>\n",
       "      <td>338.000000</td>\n",
       "      <td>10.000000</td>\n",
       "      <td>13752.000000</td>\n",
       "    </tr>\n",
       "  </tbody>\n",
       "</table>\n",
       "</div>"
      ],
      "text/plain": [
       "             budget   popularity       revenue      runtime  vote_average  \\\n",
       "count  4.751000e+03  4751.000000  4.751000e+03  4751.000000   4751.000000   \n",
       "mean   2.935914e+07    21.725186  8.315294e+07   107.334877      6.115113   \n",
       "std    4.083306e+07    31.911891  1.635206e+08    21.840986      1.125381   \n",
       "min    0.000000e+00     0.000372  0.000000e+00     0.000000      0.000000   \n",
       "25%    1.000000e+06     4.925587  0.000000e+00    94.000000      5.600000   \n",
       "50%    1.500000e+07    13.244365  1.980000e+07   104.000000      6.200000   \n",
       "75%    4.000000e+07    28.609656  9.400000e+07   118.000000      6.800000   \n",
       "max    3.800000e+08   875.581305  2.787965e+09   338.000000     10.000000   \n",
       "\n",
       "         vote_count  \n",
       "count   4751.000000  \n",
       "mean     697.741107  \n",
       "std     1239.217251  \n",
       "min        0.000000  \n",
       "25%       57.000000  \n",
       "50%      241.000000  \n",
       "75%      749.500000  \n",
       "max    13752.000000  "
      ]
     },
     "execution_count": 40,
     "metadata": {},
     "output_type": "execute_result"
    }
   ],
   "source": [
    "# statistical description of the data base\n",
    "data.describe()"
   ]
  },
  {
   "cell_type": "code",
   "execution_count": 41,
   "metadata": {
    "hidden": true
   },
   "outputs": [
    {
     "data": {
      "text/html": [
       "<div>\n",
       "<style scoped>\n",
       "    .dataframe tbody tr th:only-of-type {\n",
       "        vertical-align: middle;\n",
       "    }\n",
       "\n",
       "    .dataframe tbody tr th {\n",
       "        vertical-align: top;\n",
       "    }\n",
       "\n",
       "    .dataframe thead th {\n",
       "        text-align: right;\n",
       "    }\n",
       "</style>\n",
       "<table border=\"1\" class=\"dataframe\">\n",
       "  <thead>\n",
       "    <tr style=\"text-align: right;\">\n",
       "      <th></th>\n",
       "      <th>budget</th>\n",
       "      <th>popularity</th>\n",
       "      <th>revenue</th>\n",
       "      <th>runtime</th>\n",
       "      <th>vote_average</th>\n",
       "      <th>vote_count</th>\n",
       "    </tr>\n",
       "  </thead>\n",
       "  <tbody>\n",
       "    <tr>\n",
       "      <th>budget</th>\n",
       "      <td>1.000000</td>\n",
       "      <td>0.502854</td>\n",
       "      <td>0.729951</td>\n",
       "      <td>0.266525</td>\n",
       "      <td>0.085049</td>\n",
       "      <td>0.591499</td>\n",
       "    </tr>\n",
       "    <tr>\n",
       "      <th>popularity</th>\n",
       "      <td>0.502854</td>\n",
       "      <td>1.000000</td>\n",
       "      <td>0.643519</td>\n",
       "      <td>0.220985</td>\n",
       "      <td>0.279216</td>\n",
       "      <td>0.777276</td>\n",
       "    </tr>\n",
       "    <tr>\n",
       "      <th>revenue</th>\n",
       "      <td>0.729951</td>\n",
       "      <td>0.643519</td>\n",
       "      <td>1.000000</td>\n",
       "      <td>0.251017</td>\n",
       "      <td>0.200402</td>\n",
       "      <td>0.780835</td>\n",
       "    </tr>\n",
       "    <tr>\n",
       "      <th>runtime</th>\n",
       "      <td>0.266525</td>\n",
       "      <td>0.220985</td>\n",
       "      <td>0.251017</td>\n",
       "      <td>1.000000</td>\n",
       "      <td>0.363222</td>\n",
       "      <td>0.271673</td>\n",
       "    </tr>\n",
       "    <tr>\n",
       "      <th>vote_average</th>\n",
       "      <td>0.085049</td>\n",
       "      <td>0.279216</td>\n",
       "      <td>0.200402</td>\n",
       "      <td>0.363222</td>\n",
       "      <td>1.000000</td>\n",
       "      <td>0.323158</td>\n",
       "    </tr>\n",
       "    <tr>\n",
       "      <th>vote_count</th>\n",
       "      <td>0.591499</td>\n",
       "      <td>0.777276</td>\n",
       "      <td>0.780835</td>\n",
       "      <td>0.271673</td>\n",
       "      <td>0.323158</td>\n",
       "      <td>1.000000</td>\n",
       "    </tr>\n",
       "  </tbody>\n",
       "</table>\n",
       "</div>"
      ],
      "text/plain": [
       "                budget  popularity   revenue   runtime  vote_average  \\\n",
       "budget        1.000000    0.502854  0.729951  0.266525      0.085049   \n",
       "popularity    0.502854    1.000000  0.643519  0.220985      0.279216   \n",
       "revenue       0.729951    0.643519  1.000000  0.251017      0.200402   \n",
       "runtime       0.266525    0.220985  0.251017  1.000000      0.363222   \n",
       "vote_average  0.085049    0.279216  0.200402  0.363222      1.000000   \n",
       "vote_count    0.591499    0.777276  0.780835  0.271673      0.323158   \n",
       "\n",
       "              vote_count  \n",
       "budget          0.591499  \n",
       "popularity      0.777276  \n",
       "revenue         0.780835  \n",
       "runtime         0.271673  \n",
       "vote_average    0.323158  \n",
       "vote_count      1.000000  "
      ]
     },
     "execution_count": 41,
     "metadata": {},
     "output_type": "execute_result"
    }
   ],
   "source": [
    "data.corr()"
   ]
  },
  {
   "cell_type": "code",
   "execution_count": 42,
   "metadata": {
    "hidden": true
   },
   "outputs": [
    {
     "data": {
      "image/png": "[encoded data removed]",
      "text/plain": [
       "<Figure size 720x720 with 2 Axes>"
      ]
     },
     "metadata": {
      "needs_background": "light"
     },
     "output_type": "display_data"
    }
   ],
   "source": [
    "## Correlation map visualisation\n",
    "f,ax = plt.subplots(figsize = (10,10))\n",
    "sns.heatmap(data.corr(), annot = True, linewidths=.5, fmt = '.1f', ax = ax)\n",
    "plt.show()\n"
   ]
  },
  {
   "cell_type": "code",
   "execution_count": 43,
   "metadata": {
    "hidden": true
   },
   "outputs": [
    {
     "data": {
      "image/png": "[encoded data removed]",
      "text/plain": [
       "<Figure size 432x288 with 1 Axes>"
      ]
     },
     "metadata": {
      "needs_background": "light"
     },
     "output_type": "display_data"
    }
   ],
   "source": [
    "#showing the level of correlation between budget and vote_average using Scatter Plot\n",
    "data.plot(kind='scatter', x='vote_average', y='budget', alpha=.5, color='r')\n",
    "plt.xlabel('vote_average')\n",
    "plt.ylabel('budget')\n",
    "plt.title('Scatter Plot')\n",
    "plt.show()"
   ]
  },
  {
   "cell_type": "code",
   "execution_count": 44,
   "metadata": {
    "hidden": true
   },
   "outputs": [
    {
     "data": {
      "image/png": "[encoded data removed]",
      "text/plain": [
       "<Figure size 432x288 with 1 Axes>"
      ]
     },
     "metadata": {
      "needs_background": "light"
     },
     "output_type": "display_data"
    }
   ],
   "source": [
    "#showing the level of correlation between budget and revenue using Scatter Plot\n",
    "data.plot(kind = 'scatter', x = 'revenue', y = 'budget')\n",
    "plt.show()"
   ]
  },
  {
   "cell_type": "code",
   "execution_count": 45,
   "metadata": {
    "hidden": true,
    "scrolled": true
   },
   "outputs": [
    {
     "data": {
      "text/html": [
       "<div>\n",
       "<style scoped>\n",
       "    .dataframe tbody tr th:only-of-type {\n",
       "        vertical-align: middle;\n",
       "    }\n",
       "\n",
       "    .dataframe tbody tr th {\n",
       "        vertical-align: top;\n",
       "    }\n",
       "\n",
       "    .dataframe thead th {\n",
       "        text-align: right;\n",
       "    }\n",
       "</style>\n",
       "<table border=\"1\" class=\"dataframe\">\n",
       "  <thead>\n",
       "    <tr style=\"text-align: right;\">\n",
       "      <th></th>\n",
       "      <th>title</th>\n",
       "      <th>cast</th>\n",
       "      <th>crew</th>\n",
       "      <th>budget</th>\n",
       "      <th>genres</th>\n",
       "      <th>keywords</th>\n",
       "      <th>original_language</th>\n",
       "      <th>original_title</th>\n",
       "      <th>overview</th>\n",
       "      <th>popularity</th>\n",
       "      <th>...</th>\n",
       "      <th>release_date</th>\n",
       "      <th>revenue</th>\n",
       "      <th>runtime</th>\n",
       "      <th>spoken_languages</th>\n",
       "      <th>status</th>\n",
       "      <th>tagline</th>\n",
       "      <th>vote_average</th>\n",
       "      <th>vote_count</th>\n",
       "      <th>director</th>\n",
       "      <th>profit_rate</th>\n",
       "    </tr>\n",
       "    <tr>\n",
       "      <th>movie_id</th>\n",
       "      <th></th>\n",
       "      <th></th>\n",
       "      <th></th>\n",
       "      <th></th>\n",
       "      <th></th>\n",
       "      <th></th>\n",
       "      <th></th>\n",
       "      <th></th>\n",
       "      <th></th>\n",
       "      <th></th>\n",
       "      <th></th>\n",
       "      <th></th>\n",
       "      <th></th>\n",
       "      <th></th>\n",
       "      <th></th>\n",
       "      <th></th>\n",
       "      <th></th>\n",
       "      <th></th>\n",
       "      <th></th>\n",
       "      <th></th>\n",
       "      <th></th>\n",
       "    </tr>\n",
       "  </thead>\n",
       "  <tbody>\n",
       "    <tr>\n",
       "      <th>19995</th>\n",
       "      <td>Avatar</td>\n",
       "      <td>[Sam Worthington, Zoe Saldana, Sigourney Weave...</td>\n",
       "      <td>[Stephen E. Rivkin, Rick Carter, Christopher B...</td>\n",
       "      <td>237000000</td>\n",
       "      <td>[Action, Adventure, Fantasy, Science Fiction]</td>\n",
       "      <td>[culture clash, future, space war, space colon...</td>\n",
       "      <td>en</td>\n",
       "      <td>Avatar</td>\n",
       "      <td>In the 22nd century, a paraplegic Marine is di...</td>\n",
       "      <td>150.437577</td>\n",
       "      <td>...</td>\n",
       "      <td>2009-12-10</td>\n",
       "      <td>2787965087</td>\n",
       "      <td>162.0</td>\n",
       "      <td>[English, Español]</td>\n",
       "      <td>Released</td>\n",
       "      <td>Enter the World of Pandora.</td>\n",
       "      <td>7.2</td>\n",
       "      <td>11800</td>\n",
       "      <td>[James Cameron]</td>\n",
       "      <td>11.763566</td>\n",
       "    </tr>\n",
       "    <tr>\n",
       "      <th>285</th>\n",
       "      <td>Pirates of the Caribbean: At World's End</td>\n",
       "      <td>[Johnny Depp, Orlando Bloom, Keira Knightley, ...</td>\n",
       "      <td>[Dariusz Wolski, Gore Verbinski, Jerry Bruckhe...</td>\n",
       "      <td>300000000</td>\n",
       "      <td>[Adventure, Fantasy, Action]</td>\n",
       "      <td>[ocean, drug abuse, exotic island, east india ...</td>\n",
       "      <td>en</td>\n",
       "      <td>Pirates of the Caribbean: At World's End</td>\n",
       "      <td>Captain Barbossa, long believed to be dead, ha...</td>\n",
       "      <td>139.082615</td>\n",
       "      <td>...</td>\n",
       "      <td>2007-05-19</td>\n",
       "      <td>961000000</td>\n",
       "      <td>169.0</td>\n",
       "      <td>[English]</td>\n",
       "      <td>Released</td>\n",
       "      <td>At the end of the world, the adventure begins.</td>\n",
       "      <td>6.9</td>\n",
       "      <td>4500</td>\n",
       "      <td>[Gore Verbinski]</td>\n",
       "      <td>3.203333</td>\n",
       "    </tr>\n",
       "    <tr>\n",
       "      <th>206647</th>\n",
       "      <td>Spectre</td>\n",
       "      <td>[Daniel Craig, Christoph Waltz, Léa Seydoux, R...</td>\n",
       "      <td>[Thomas Newman, Sam Mendes, Anna Pinnock, John...</td>\n",
       "      <td>245000000</td>\n",
       "      <td>[Action, Adventure, Crime]</td>\n",
       "      <td>[spy, based on novel, secret agent, sequel, mi...</td>\n",
       "      <td>en</td>\n",
       "      <td>Spectre</td>\n",
       "      <td>A cryptic message from Bond’s past sends him o...</td>\n",
       "      <td>107.376788</td>\n",
       "      <td>...</td>\n",
       "      <td>2015-10-26</td>\n",
       "      <td>880674609</td>\n",
       "      <td>148.0</td>\n",
       "      <td>[Français, English, Español, Italiano, Deutsch]</td>\n",
       "      <td>Released</td>\n",
       "      <td>A Plan No One Escapes</td>\n",
       "      <td>6.3</td>\n",
       "      <td>4466</td>\n",
       "      <td>[Sam Mendes]</td>\n",
       "      <td>3.594590</td>\n",
       "    </tr>\n",
       "    <tr>\n",
       "      <th>49026</th>\n",
       "      <td>The Dark Knight Rises</td>\n",
       "      <td>[Christian Bale, Michael Caine, Gary Oldman, A...</td>\n",
       "      <td>[Hans Zimmer, Charles Roven, Christopher Nolan...</td>\n",
       "      <td>250000000</td>\n",
       "      <td>[Action, Crime, Drama, Thriller]</td>\n",
       "      <td>[dc comics, crime fighter, terrorist, secret i...</td>\n",
       "      <td>en</td>\n",
       "      <td>The Dark Knight Rises</td>\n",
       "      <td>Following the death of District Attorney Harve...</td>\n",
       "      <td>112.312950</td>\n",
       "      <td>...</td>\n",
       "      <td>2012-07-16</td>\n",
       "      <td>1084939099</td>\n",
       "      <td>165.0</td>\n",
       "      <td>[English]</td>\n",
       "      <td>Released</td>\n",
       "      <td>The Legend Ends</td>\n",
       "      <td>7.6</td>\n",
       "      <td>9106</td>\n",
       "      <td>[Christopher Nolan]</td>\n",
       "      <td>4.339756</td>\n",
       "    </tr>\n",
       "    <tr>\n",
       "      <th>49529</th>\n",
       "      <td>John Carter</td>\n",
       "      <td>[Taylor Kitsch, Lynn Collins, Samantha Morton,...</td>\n",
       "      <td>[Andrew Stanton, Andrew Stanton, John Lasseter...</td>\n",
       "      <td>260000000</td>\n",
       "      <td>[Action, Adventure, Science Fiction]</td>\n",
       "      <td>[based on novel, mars, medallion, space travel...</td>\n",
       "      <td>en</td>\n",
       "      <td>John Carter</td>\n",
       "      <td>John Carter is a war-weary, former military ca...</td>\n",
       "      <td>43.926995</td>\n",
       "      <td>...</td>\n",
       "      <td>2012-03-07</td>\n",
       "      <td>284139100</td>\n",
       "      <td>132.0</td>\n",
       "      <td>[English]</td>\n",
       "      <td>Released</td>\n",
       "      <td>Lost in our world, found in another.</td>\n",
       "      <td>6.1</td>\n",
       "      <td>2124</td>\n",
       "      <td>[Andrew Stanton]</td>\n",
       "      <td>1.092843</td>\n",
       "    </tr>\n",
       "  </tbody>\n",
       "</table>\n",
       "<p>5 rows × 22 columns</p>\n",
       "</div>"
      ],
      "text/plain": [
       "                                             title  \\\n",
       "movie_id                                             \n",
       "19995                                       Avatar   \n",
       "285       Pirates of the Caribbean: At World's End   \n",
       "206647                                     Spectre   \n",
       "49026                        The Dark Knight Rises   \n",
       "49529                                  John Carter   \n",
       "\n",
       "                                                       cast  \\\n",
       "movie_id                                                      \n",
       "19995     [Sam Worthington, Zoe Saldana, Sigourney Weave...   \n",
       "285       [Johnny Depp, Orlando Bloom, Keira Knightley, ...   \n",
       "206647    [Daniel Craig, Christoph Waltz, Léa Seydoux, R...   \n",
       "49026     [Christian Bale, Michael Caine, Gary Oldman, A...   \n",
       "49529     [Taylor Kitsch, Lynn Collins, Samantha Morton,...   \n",
       "\n",
       "                                                       crew     budget  \\\n",
       "movie_id                                                                 \n",
       "19995     [Stephen E. Rivkin, Rick Carter, Christopher B...  237000000   \n",
       "285       [Dariusz Wolski, Gore Verbinski, Jerry Bruckhe...  300000000   \n",
       "206647    [Thomas Newman, Sam Mendes, Anna Pinnock, John...  245000000   \n",
       "49026     [Hans Zimmer, Charles Roven, Christopher Nolan...  250000000   \n",
       "49529     [Andrew Stanton, Andrew Stanton, John Lasseter...  260000000   \n",
       "\n",
       "                                                 genres  \\\n",
       "movie_id                                                  \n",
       "19995     [Action, Adventure, Fantasy, Science Fiction]   \n",
       "285                        [Adventure, Fantasy, Action]   \n",
       "206647                       [Action, Adventure, Crime]   \n",
       "49026                  [Action, Crime, Drama, Thriller]   \n",
       "49529              [Action, Adventure, Science Fiction]   \n",
       "\n",
       "                                                   keywords original_language  \\\n",
       "movie_id                                                                        \n",
       "19995     [culture clash, future, space war, space colon...                en   \n",
       "285       [ocean, drug abuse, exotic island, east india ...                en   \n",
       "206647    [spy, based on novel, secret agent, sequel, mi...                en   \n",
       "49026     [dc comics, crime fighter, terrorist, secret i...                en   \n",
       "49529     [based on novel, mars, medallion, space travel...                en   \n",
       "\n",
       "                                    original_title  \\\n",
       "movie_id                                             \n",
       "19995                                       Avatar   \n",
       "285       Pirates of the Caribbean: At World's End   \n",
       "206647                                     Spectre   \n",
       "49026                        The Dark Knight Rises   \n",
       "49529                                  John Carter   \n",
       "\n",
       "                                                   overview  popularity  ...  \\\n",
       "movie_id                                                                 ...   \n",
       "19995     In the 22nd century, a paraplegic Marine is di...  150.437577  ...   \n",
       "285       Captain Barbossa, long believed to be dead, ha...  139.082615  ...   \n",
       "206647    A cryptic message from Bond’s past sends him o...  107.376788  ...   \n",
       "49026     Following the death of District Attorney Harve...  112.312950  ...   \n",
       "49529     John Carter is a war-weary, former military ca...   43.926995  ...   \n",
       "\n",
       "         release_date     revenue runtime  \\\n",
       "movie_id                                    \n",
       "19995      2009-12-10  2787965087   162.0   \n",
       "285        2007-05-19   961000000   169.0   \n",
       "206647     2015-10-26   880674609   148.0   \n",
       "49026      2012-07-16  1084939099   165.0   \n",
       "49529      2012-03-07   284139100   132.0   \n",
       "\n",
       "                                         spoken_languages    status  \\\n",
       "movie_id                                                              \n",
       "19995                                  [English, Español]  Released   \n",
       "285                                             [English]  Released   \n",
       "206647    [Français, English, Español, Italiano, Deutsch]  Released   \n",
       "49026                                           [English]  Released   \n",
       "49529                                           [English]  Released   \n",
       "\n",
       "                                                 tagline vote_average  \\\n",
       "movie_id                                                                \n",
       "19995                        Enter the World of Pandora.          7.2   \n",
       "285       At the end of the world, the adventure begins.          6.9   \n",
       "206647                             A Plan No One Escapes          6.3   \n",
       "49026                                    The Legend Ends          7.6   \n",
       "49529               Lost in our world, found in another.          6.1   \n",
       "\n",
       "         vote_count             director  profit_rate  \n",
       "movie_id                                               \n",
       "19995         11800      [James Cameron]    11.763566  \n",
       "285            4500     [Gore Verbinski]     3.203333  \n",
       "206647         4466         [Sam Mendes]     3.594590  \n",
       "49026          9106  [Christopher Nolan]     4.339756  \n",
       "49529          2124     [Andrew Stanton]     1.092843  \n",
       "\n",
       "[5 rows x 22 columns]"
      ]
     },
     "execution_count": 45,
     "metadata": {},
     "output_type": "execute_result"
    }
   ],
   "source": [
    "# we will add a new column 'profit-rate' based on the relation between budget and revenue\n",
    "data['profit_rate'] = data.revenue / data.budget\n",
    "data.head()"
   ]
  },
  {
   "cell_type": "markdown",
   "metadata": {
    "heading_collapsed": true,
    "hidden": true
   },
   "source": [
    "## Genres analysis"
   ]
  },
  {
   "cell_type": "code",
   "execution_count": 46,
   "metadata": {
    "hidden": true
   },
   "outputs": [],
   "source": [
    "from collections import Counter"
   ]
  },
  {
   "cell_type": "code",
   "execution_count": 47,
   "metadata": {
    "hidden": true
   },
   "outputs": [
    {
     "data": {
      "text/html": [
       "<div>\n",
       "<style scoped>\n",
       "    .dataframe tbody tr th:only-of-type {\n",
       "        vertical-align: middle;\n",
       "    }\n",
       "\n",
       "    .dataframe tbody tr th {\n",
       "        vertical-align: top;\n",
       "    }\n",
       "\n",
       "    .dataframe thead th {\n",
       "        text-align: right;\n",
       "    }\n",
       "</style>\n",
       "<table border=\"1\" class=\"dataframe\">\n",
       "  <thead>\n",
       "    <tr style=\"text-align: right;\">\n",
       "      <th></th>\n",
       "      <th>genre</th>\n",
       "      <th>movies</th>\n",
       "    </tr>\n",
       "  </thead>\n",
       "  <tbody>\n",
       "    <tr>\n",
       "      <th>5</th>\n",
       "      <td>Drama</td>\n",
       "      <td>2290</td>\n",
       "    </tr>\n",
       "    <tr>\n",
       "      <th>10</th>\n",
       "      <td>Comedy</td>\n",
       "      <td>1715</td>\n",
       "    </tr>\n",
       "    <tr>\n",
       "      <th>6</th>\n",
       "      <td>Thriller</td>\n",
       "      <td>1272</td>\n",
       "    </tr>\n",
       "    <tr>\n",
       "      <th>0</th>\n",
       "      <td>Action</td>\n",
       "      <td>1152</td>\n",
       "    </tr>\n",
       "    <tr>\n",
       "      <th>11</th>\n",
       "      <td>Romance</td>\n",
       "      <td>892</td>\n",
       "    </tr>\n",
       "    <tr>\n",
       "      <th>1</th>\n",
       "      <td>Adventure</td>\n",
       "      <td>790</td>\n",
       "    </tr>\n",
       "    <tr>\n",
       "      <th>4</th>\n",
       "      <td>Crime</td>\n",
       "      <td>695</td>\n",
       "    </tr>\n",
       "    <tr>\n",
       "      <th>3</th>\n",
       "      <td>Science Fiction</td>\n",
       "      <td>534</td>\n",
       "    </tr>\n",
       "    <tr>\n",
       "      <th>12</th>\n",
       "      <td>Horror</td>\n",
       "      <td>518</td>\n",
       "    </tr>\n",
       "    <tr>\n",
       "      <th>8</th>\n",
       "      <td>Family</td>\n",
       "      <td>507</td>\n",
       "    </tr>\n",
       "    <tr>\n",
       "      <th>2</th>\n",
       "      <td>Fantasy</td>\n",
       "      <td>424</td>\n",
       "    </tr>\n",
       "    <tr>\n",
       "      <th>13</th>\n",
       "      <td>Mystery</td>\n",
       "      <td>347</td>\n",
       "    </tr>\n",
       "    <tr>\n",
       "      <th>7</th>\n",
       "      <td>Animation</td>\n",
       "      <td>233</td>\n",
       "    </tr>\n",
       "    <tr>\n",
       "      <th>14</th>\n",
       "      <td>History</td>\n",
       "      <td>197</td>\n",
       "    </tr>\n",
       "    <tr>\n",
       "      <th>16</th>\n",
       "      <td>Music</td>\n",
       "      <td>184</td>\n",
       "    </tr>\n",
       "    <tr>\n",
       "      <th>15</th>\n",
       "      <td>War</td>\n",
       "      <td>144</td>\n",
       "    </tr>\n",
       "    <tr>\n",
       "      <th>17</th>\n",
       "      <td>Documentary</td>\n",
       "      <td>92</td>\n",
       "    </tr>\n",
       "    <tr>\n",
       "      <th>9</th>\n",
       "      <td>Western</td>\n",
       "      <td>82</td>\n",
       "    </tr>\n",
       "    <tr>\n",
       "      <th>18</th>\n",
       "      <td>Foreign</td>\n",
       "      <td>31</td>\n",
       "    </tr>\n",
       "    <tr>\n",
       "      <th>19</th>\n",
       "      <td>TV Movie</td>\n",
       "      <td>8</td>\n",
       "    </tr>\n",
       "  </tbody>\n",
       "</table>\n",
       "</div>"
      ],
      "text/plain": [
       "              genre  movies\n",
       "5             Drama    2290\n",
       "10           Comedy    1715\n",
       "6          Thriller    1272\n",
       "0            Action    1152\n",
       "11          Romance     892\n",
       "1         Adventure     790\n",
       "4             Crime     695\n",
       "3   Science Fiction     534\n",
       "12           Horror     518\n",
       "8            Family     507\n",
       "2           Fantasy     424\n",
       "13          Mystery     347\n",
       "7         Animation     233\n",
       "14          History     197\n",
       "16            Music     184\n",
       "15              War     144\n",
       "17      Documentary      92\n",
       "9           Western      82\n",
       "18          Foreign      31\n",
       "19         TV Movie       8"
      ]
     },
     "execution_count": 47,
     "metadata": {},
     "output_type": "execute_result"
    }
   ],
   "source": [
    "genres = pd.DataFrame.from_dict(dict(Counter(data['genres'].sum())), orient='index').reset_index()\n",
    "genres.columns=['genre', 'movies']\n",
    "genres.sort_values(by='movies', inplace=True, ascending=False)\n",
    "genres"
   ]
  },
  {
   "cell_type": "code",
   "execution_count": 48,
   "metadata": {
    "hidden": true
   },
   "outputs": [
    {
     "data": {
      "image/png": "[encoded data removed]",
      "text/plain": [
       "<Figure size 1296x576 with 1 Axes>"
      ]
     },
     "metadata": {
      "needs_background": "light"
     },
     "output_type": "display_data"
    }
   ],
   "source": [
    "plt.figure(figsize=(18,8))\n",
    "sns.barplot(x='movies', y='genre', data=genres)\n",
    "plt.show()"
   ]
  },
  {
   "cell_type": "markdown",
   "metadata": {
    "hidden": true
   },
   "source": [
    "To see the distribution of the genres in our Data Base, it seems to be helpfull not to work with the release_date which gives the exact date of release but rather consider the year of release so that we can group the films by year and see the distribution of the genres"
   ]
  },
  {
   "cell_type": "markdown",
   "metadata": {
    "hidden": true
   },
   "source": [
    "### Genres in history"
   ]
  },
  {
   "cell_type": "code",
   "execution_count": 49,
   "metadata": {
    "hidden": true
   },
   "outputs": [
    {
     "data": {
      "text/plain": [
       "movie_id\n",
       "19995    2009-12-10\n",
       "285      2007-05-19\n",
       "206647   2015-10-26\n",
       "49026    2012-07-16\n",
       "49529    2012-03-07\n",
       "Name: release_date, dtype: datetime64[ns]"
      ]
     },
     "execution_count": 49,
     "metadata": {},
     "output_type": "execute_result"
    }
   ],
   "source": [
    "# To have a better insight on the release_date\n",
    "data['release_date'].head()"
   ]
  },
  {
   "cell_type": "code",
   "execution_count": 50,
   "metadata": {
    "hidden": true
   },
   "outputs": [],
   "source": [
    "# Extrating the year of release\n",
    "data['year'] = data['release_date'].dt.strftime('%Y')"
   ]
  },
  {
   "cell_type": "code",
   "execution_count": 51,
   "metadata": {
    "hidden": true,
    "scrolled": true
   },
   "outputs": [
    {
     "data": {
      "text/html": [
       "<div>\n",
       "<style scoped>\n",
       "    .dataframe tbody tr th:only-of-type {\n",
       "        vertical-align: middle;\n",
       "    }\n",
       "\n",
       "    .dataframe tbody tr th {\n",
       "        vertical-align: top;\n",
       "    }\n",
       "\n",
       "    .dataframe thead th {\n",
       "        text-align: right;\n",
       "    }\n",
       "</style>\n",
       "<table border=\"1\" class=\"dataframe\">\n",
       "  <thead>\n",
       "    <tr style=\"text-align: right;\">\n",
       "      <th></th>\n",
       "      <th>title</th>\n",
       "      <th>cast</th>\n",
       "      <th>crew</th>\n",
       "      <th>budget</th>\n",
       "      <th>genres</th>\n",
       "      <th>keywords</th>\n",
       "      <th>original_language</th>\n",
       "      <th>original_title</th>\n",
       "      <th>overview</th>\n",
       "      <th>popularity</th>\n",
       "      <th>...</th>\n",
       "      <th>revenue</th>\n",
       "      <th>runtime</th>\n",
       "      <th>spoken_languages</th>\n",
       "      <th>status</th>\n",
       "      <th>tagline</th>\n",
       "      <th>vote_average</th>\n",
       "      <th>vote_count</th>\n",
       "      <th>director</th>\n",
       "      <th>profit_rate</th>\n",
       "      <th>year</th>\n",
       "    </tr>\n",
       "    <tr>\n",
       "      <th>movie_id</th>\n",
       "      <th></th>\n",
       "      <th></th>\n",
       "      <th></th>\n",
       "      <th></th>\n",
       "      <th></th>\n",
       "      <th></th>\n",
       "      <th></th>\n",
       "      <th></th>\n",
       "      <th></th>\n",
       "      <th></th>\n",
       "      <th></th>\n",
       "      <th></th>\n",
       "      <th></th>\n",
       "      <th></th>\n",
       "      <th></th>\n",
       "      <th></th>\n",
       "      <th></th>\n",
       "      <th></th>\n",
       "      <th></th>\n",
       "      <th></th>\n",
       "      <th></th>\n",
       "    </tr>\n",
       "  </thead>\n",
       "  <tbody>\n",
       "    <tr>\n",
       "      <th>19995</th>\n",
       "      <td>Avatar</td>\n",
       "      <td>[Sam Worthington, Zoe Saldana, Sigourney Weave...</td>\n",
       "      <td>[Stephen E. Rivkin, Rick Carter, Christopher B...</td>\n",
       "      <td>237000000</td>\n",
       "      <td>[Action, Adventure, Fantasy, Science Fiction]</td>\n",
       "      <td>[culture clash, future, space war, space colon...</td>\n",
       "      <td>en</td>\n",
       "      <td>Avatar</td>\n",
       "      <td>In the 22nd century, a paraplegic Marine is di...</td>\n",
       "      <td>150.437577</td>\n",
       "      <td>...</td>\n",
       "      <td>2787965087</td>\n",
       "      <td>162.0</td>\n",
       "      <td>[English, Español]</td>\n",
       "      <td>Released</td>\n",
       "      <td>Enter the World of Pandora.</td>\n",
       "      <td>7.2</td>\n",
       "      <td>11800</td>\n",
       "      <td>[James Cameron]</td>\n",
       "      <td>11.763566</td>\n",
       "      <td>2009</td>\n",
       "    </tr>\n",
       "    <tr>\n",
       "      <th>285</th>\n",
       "      <td>Pirates of the Caribbean: At World's End</td>\n",
       "      <td>[Johnny Depp, Orlando Bloom, Keira Knightley, ...</td>\n",
       "      <td>[Dariusz Wolski, Gore Verbinski, Jerry Bruckhe...</td>\n",
       "      <td>300000000</td>\n",
       "      <td>[Adventure, Fantasy, Action]</td>\n",
       "      <td>[ocean, drug abuse, exotic island, east india ...</td>\n",
       "      <td>en</td>\n",
       "      <td>Pirates of the Caribbean: At World's End</td>\n",
       "      <td>Captain Barbossa, long believed to be dead, ha...</td>\n",
       "      <td>139.082615</td>\n",
       "      <td>...</td>\n",
       "      <td>961000000</td>\n",
       "      <td>169.0</td>\n",
       "      <td>[English]</td>\n",
       "      <td>Released</td>\n",
       "      <td>At the end of the world, the adventure begins.</td>\n",
       "      <td>6.9</td>\n",
       "      <td>4500</td>\n",
       "      <td>[Gore Verbinski]</td>\n",
       "      <td>3.203333</td>\n",
       "      <td>2007</td>\n",
       "    </tr>\n",
       "    <tr>\n",
       "      <th>206647</th>\n",
       "      <td>Spectre</td>\n",
       "      <td>[Daniel Craig, Christoph Waltz, Léa Seydoux, R...</td>\n",
       "      <td>[Thomas Newman, Sam Mendes, Anna Pinnock, John...</td>\n",
       "      <td>245000000</td>\n",
       "      <td>[Action, Adventure, Crime]</td>\n",
       "      <td>[spy, based on novel, secret agent, sequel, mi...</td>\n",
       "      <td>en</td>\n",
       "      <td>Spectre</td>\n",
       "      <td>A cryptic message from Bond’s past sends him o...</td>\n",
       "      <td>107.376788</td>\n",
       "      <td>...</td>\n",
       "      <td>880674609</td>\n",
       "      <td>148.0</td>\n",
       "      <td>[Français, English, Español, Italiano, Deutsch]</td>\n",
       "      <td>Released</td>\n",
       "      <td>A Plan No One Escapes</td>\n",
       "      <td>6.3</td>\n",
       "      <td>4466</td>\n",
       "      <td>[Sam Mendes]</td>\n",
       "      <td>3.594590</td>\n",
       "      <td>2015</td>\n",
       "    </tr>\n",
       "    <tr>\n",
       "      <th>49026</th>\n",
       "      <td>The Dark Knight Rises</td>\n",
       "      <td>[Christian Bale, Michael Caine, Gary Oldman, A...</td>\n",
       "      <td>[Hans Zimmer, Charles Roven, Christopher Nolan...</td>\n",
       "      <td>250000000</td>\n",
       "      <td>[Action, Crime, Drama, Thriller]</td>\n",
       "      <td>[dc comics, crime fighter, terrorist, secret i...</td>\n",
       "      <td>en</td>\n",
       "      <td>The Dark Knight Rises</td>\n",
       "      <td>Following the death of District Attorney Harve...</td>\n",
       "      <td>112.312950</td>\n",
       "      <td>...</td>\n",
       "      <td>1084939099</td>\n",
       "      <td>165.0</td>\n",
       "      <td>[English]</td>\n",
       "      <td>Released</td>\n",
       "      <td>The Legend Ends</td>\n",
       "      <td>7.6</td>\n",
       "      <td>9106</td>\n",
       "      <td>[Christopher Nolan]</td>\n",
       "      <td>4.339756</td>\n",
       "      <td>2012</td>\n",
       "    </tr>\n",
       "    <tr>\n",
       "      <th>49529</th>\n",
       "      <td>John Carter</td>\n",
       "      <td>[Taylor Kitsch, Lynn Collins, Samantha Morton,...</td>\n",
       "      <td>[Andrew Stanton, Andrew Stanton, John Lasseter...</td>\n",
       "      <td>260000000</td>\n",
       "      <td>[Action, Adventure, Science Fiction]</td>\n",
       "      <td>[based on novel, mars, medallion, space travel...</td>\n",
       "      <td>en</td>\n",
       "      <td>John Carter</td>\n",
       "      <td>John Carter is a war-weary, former military ca...</td>\n",
       "      <td>43.926995</td>\n",
       "      <td>...</td>\n",
       "      <td>284139100</td>\n",
       "      <td>132.0</td>\n",
       "      <td>[English]</td>\n",
       "      <td>Released</td>\n",
       "      <td>Lost in our world, found in another.</td>\n",
       "      <td>6.1</td>\n",
       "      <td>2124</td>\n",
       "      <td>[Andrew Stanton]</td>\n",
       "      <td>1.092843</td>\n",
       "      <td>2012</td>\n",
       "    </tr>\n",
       "  </tbody>\n",
       "</table>\n",
       "<p>5 rows × 23 columns</p>\n",
       "</div>"
      ],
      "text/plain": [
       "                                             title  \\\n",
       "movie_id                                             \n",
       "19995                                       Avatar   \n",
       "285       Pirates of the Caribbean: At World's End   \n",
       "206647                                     Spectre   \n",
       "49026                        The Dark Knight Rises   \n",
       "49529                                  John Carter   \n",
       "\n",
       "                                                       cast  \\\n",
       "movie_id                                                      \n",
       "19995     [Sam Worthington, Zoe Saldana, Sigourney Weave...   \n",
       "285       [Johnny Depp, Orlando Bloom, Keira Knightley, ...   \n",
       "206647    [Daniel Craig, Christoph Waltz, Léa Seydoux, R...   \n",
       "49026     [Christian Bale, Michael Caine, Gary Oldman, A...   \n",
       "49529     [Taylor Kitsch, Lynn Collins, Samantha Morton,...   \n",
       "\n",
       "                                                       crew     budget  \\\n",
       "movie_id                                                                 \n",
       "19995     [Stephen E. Rivkin, Rick Carter, Christopher B...  237000000   \n",
       "285       [Dariusz Wolski, Gore Verbinski, Jerry Bruckhe...  300000000   \n",
       "206647    [Thomas Newman, Sam Mendes, Anna Pinnock, John...  245000000   \n",
       "49026     [Hans Zimmer, Charles Roven, Christopher Nolan...  250000000   \n",
       "49529     [Andrew Stanton, Andrew Stanton, John Lasseter...  260000000   \n",
       "\n",
       "                                                 genres  \\\n",
       "movie_id                                                  \n",
       "19995     [Action, Adventure, Fantasy, Science Fiction]   \n",
       "285                        [Adventure, Fantasy, Action]   \n",
       "206647                       [Action, Adventure, Crime]   \n",
       "49026                  [Action, Crime, Drama, Thriller]   \n",
       "49529              [Action, Adventure, Science Fiction]   \n",
       "\n",
       "                                                   keywords original_language  \\\n",
       "movie_id                                                                        \n",
       "19995     [culture clash, future, space war, space colon...                en   \n",
       "285       [ocean, drug abuse, exotic island, east india ...                en   \n",
       "206647    [spy, based on novel, secret agent, sequel, mi...                en   \n",
       "49026     [dc comics, crime fighter, terrorist, secret i...                en   \n",
       "49529     [based on novel, mars, medallion, space travel...                en   \n",
       "\n",
       "                                    original_title  \\\n",
       "movie_id                                             \n",
       "19995                                       Avatar   \n",
       "285       Pirates of the Caribbean: At World's End   \n",
       "206647                                     Spectre   \n",
       "49026                        The Dark Knight Rises   \n",
       "49529                                  John Carter   \n",
       "\n",
       "                                                   overview  popularity  ...  \\\n",
       "movie_id                                                                 ...   \n",
       "19995     In the 22nd century, a paraplegic Marine is di...  150.437577  ...   \n",
       "285       Captain Barbossa, long believed to be dead, ha...  139.082615  ...   \n",
       "206647    A cryptic message from Bond’s past sends him o...  107.376788  ...   \n",
       "49026     Following the death of District Attorney Harve...  112.312950  ...   \n",
       "49529     John Carter is a war-weary, former military ca...   43.926995  ...   \n",
       "\n",
       "             revenue runtime                                 spoken_languages  \\\n",
       "movie_id                                                                        \n",
       "19995     2787965087   162.0                               [English, Español]   \n",
       "285        961000000   169.0                                        [English]   \n",
       "206647     880674609   148.0  [Français, English, Español, Italiano, Deutsch]   \n",
       "49026     1084939099   165.0                                        [English]   \n",
       "49529      284139100   132.0                                        [English]   \n",
       "\n",
       "            status                                         tagline  \\\n",
       "movie_id                                                             \n",
       "19995     Released                     Enter the World of Pandora.   \n",
       "285       Released  At the end of the world, the adventure begins.   \n",
       "206647    Released                           A Plan No One Escapes   \n",
       "49026     Released                                 The Legend Ends   \n",
       "49529     Released            Lost in our world, found in another.   \n",
       "\n",
       "         vote_average vote_count             director  profit_rate  year  \n",
       "movie_id                                                                  \n",
       "19995             7.2      11800      [James Cameron]    11.763566  2009  \n",
       "285               6.9       4500     [Gore Verbinski]     3.203333  2007  \n",
       "206647            6.3       4466         [Sam Mendes]     3.594590  2015  \n",
       "49026             7.6       9106  [Christopher Nolan]     4.339756  2012  \n",
       "49529             6.1       2124     [Andrew Stanton]     1.092843  2012  \n",
       "\n",
       "[5 rows x 23 columns]"
      ]
     },
     "execution_count": 51,
     "metadata": {},
     "output_type": "execute_result"
    }
   ],
   "source": [
    "data.head()"
   ]
  },
  {
   "cell_type": "markdown",
   "metadata": {
    "hidden": true
   },
   "source": [
    "Now that we have the column 'year', the visualisation is easier to code"
   ]
  },
  {
   "cell_type": "code",
   "execution_count": 52,
   "metadata": {
    "hidden": true
   },
   "outputs": [
    {
     "name": "stdout",
     "output_type": "stream",
     "text": [
      "1916 2017\n"
     ]
    }
   ],
   "source": [
    "# we can start by obtaining the range of years in the dataset\n",
    "# minimum range value\n",
    "min_year = data['year'].min()\n",
    "# maximum range value\n",
    "max_year = data['year'].max()\n",
    "# print the range\n",
    "print(min_year, max_year)"
   ]
  },
  {
   "cell_type": "markdown",
   "metadata": {
    "heading_collapsed": true,
    "hidden": true
   },
   "source": [
    "## Visualizing text fields"
   ]
  },
  {
   "cell_type": "code",
   "execution_count": 53,
   "metadata": {
    "hidden": true
   },
   "outputs": [],
   "source": [
    "from wordcloud import WordCloud, STOPWORDS, ImageColorGenerator"
   ]
  },
  {
   "cell_type": "code",
   "execution_count": 54,
   "metadata": {
    "hidden": true
   },
   "outputs": [],
   "source": [
    "#converting the type of title and overview\n",
    "data['title'] = data['title'].astype('str')\n",
    "data['overview'] = data['overview'].astype('str')"
   ]
  },
  {
   "cell_type": "code",
   "execution_count": 55,
   "metadata": {
    "hidden": true
   },
   "outputs": [],
   "source": [
    "title_corpus = ' '.join(data['title'])\n",
    "overview_corpus = ' '.join(data['overview'])"
   ]
  },
  {
   "cell_type": "code",
   "execution_count": 56,
   "metadata": {
    "hidden": true
   },
   "outputs": [
    {
     "data": {
      "image/png": "[encoded data removed]",
      "text/plain": [
       "<Figure size 864x864 with 1 Axes>"
      ]
     },
     "metadata": {
      "needs_background": "light"
     },
     "output_type": "display_data"
    }
   ],
   "source": [
    "# Creating and generating a word cloud image based on the title:\n",
    "wordcloud = WordCloud().generate(title_corpus)\n",
    "plt.figure(figsize=(12,12))# Display the generated image\n",
    "plt.imshow(wordcloud, interpolation='bilinear')\n",
    "plt.axis(\"off\")\n",
    "plt.show()"
   ]
  },
  {
   "cell_type": "code",
   "execution_count": 57,
   "metadata": {
    "hidden": true
   },
   "outputs": [
    {
     "data": {
      "image/png": "[encoded data removed]",
      "text/plain": [
       "<Figure size 864x864 with 1 Axes>"
      ]
     },
     "metadata": {
      "needs_background": "light"
     },
     "output_type": "display_data"
    }
   ],
   "source": [
    "# Creating and generating a word cloud image based on the overview:\n",
    "wordcloud = WordCloud().generate(overview_corpus)\n",
    "plt.figure(figsize=(12,12))# Display the generated image\n",
    "plt.imshow(wordcloud, interpolation='bilinear')\n",
    "plt.axis(\"off\")\n",
    "plt.show()"
   ]
  },
  {
   "cell_type": "markdown",
   "metadata": {},
   "source": [
    "# Recommendation systems"
   ]
  },
  {
   "cell_type": "markdown",
   "metadata": {},
   "source": [
    "Since we only have access to movie data and no user data, we will restrict ourselves to content based filtering. Most platforms today use collaborative filtering, meaning that they recommend content based on what similar users have liked. \n",
    "\n",
    "Content based filtering is likely to be less effective, because it is very conservative. You'll only ever be recommended content similar to what you have already liked. Moreover, it wont improve over time."
   ]
  },
  {
   "cell_type": "markdown",
   "metadata": {
    "heading_collapsed": true
   },
   "source": [
    "## Recommendation by rating"
   ]
  },
  {
   "cell_type": "markdown",
   "metadata": {
    "hidden": true
   },
   "source": [
    "We will start with a simple recommendation system which simply recommends the best movies in the database."
   ]
  },
  {
   "cell_type": "code",
   "execution_count": 58,
   "metadata": {
    "hidden": true
   },
   "outputs": [
    {
     "data": {
      "text/plain": [
       "966.0"
      ]
     },
     "execution_count": 58,
     "metadata": {},
     "output_type": "execute_result"
    }
   ],
   "source": [
    "# Let's choose the minimum amount of ratings for us to consider the movie\n",
    "# Here we only take into account movies that have more votes than 80% of the list\n",
    "min_votes = data['vote_count'].quantile(0.8)\n",
    "min_votes"
   ]
  },
  {
   "cell_type": "code",
   "execution_count": 59,
   "metadata": {
    "hidden": true
   },
   "outputs": [],
   "source": [
    "v = data['vote_count']\n",
    "m = min_votes\n",
    "R = data['vote_average']\n",
    "C = data['vote_average'].mean()"
   ]
  },
  {
   "cell_type": "code",
   "execution_count": 60,
   "metadata": {
    "hidden": true
   },
   "outputs": [],
   "source": [
    "data['weighted_rating'] = (v / (v + m) * R) + (m / (v+m) * C)"
   ]
  },
  {
   "cell_type": "code",
   "execution_count": 61,
   "metadata": {
    "hidden": true
   },
   "outputs": [
    {
     "data": {
      "text/html": [
       "<div>\n",
       "<style scoped>\n",
       "    .dataframe tbody tr th:only-of-type {\n",
       "        vertical-align: middle;\n",
       "    }\n",
       "\n",
       "    .dataframe tbody tr th {\n",
       "        vertical-align: top;\n",
       "    }\n",
       "\n",
       "    .dataframe thead th {\n",
       "        text-align: right;\n",
       "    }\n",
       "</style>\n",
       "<table border=\"1\" class=\"dataframe\">\n",
       "  <thead>\n",
       "    <tr style=\"text-align: right;\">\n",
       "      <th></th>\n",
       "      <th>title</th>\n",
       "      <th>cast</th>\n",
       "      <th>crew</th>\n",
       "      <th>budget</th>\n",
       "      <th>genres</th>\n",
       "      <th>keywords</th>\n",
       "      <th>original_language</th>\n",
       "      <th>original_title</th>\n",
       "      <th>overview</th>\n",
       "      <th>popularity</th>\n",
       "      <th>...</th>\n",
       "      <th>runtime</th>\n",
       "      <th>spoken_languages</th>\n",
       "      <th>status</th>\n",
       "      <th>tagline</th>\n",
       "      <th>vote_average</th>\n",
       "      <th>vote_count</th>\n",
       "      <th>director</th>\n",
       "      <th>profit_rate</th>\n",
       "      <th>year</th>\n",
       "      <th>weighted_rating</th>\n",
       "    </tr>\n",
       "    <tr>\n",
       "      <th>movie_id</th>\n",
       "      <th></th>\n",
       "      <th></th>\n",
       "      <th></th>\n",
       "      <th></th>\n",
       "      <th></th>\n",
       "      <th></th>\n",
       "      <th></th>\n",
       "      <th></th>\n",
       "      <th></th>\n",
       "      <th></th>\n",
       "      <th></th>\n",
       "      <th></th>\n",
       "      <th></th>\n",
       "      <th></th>\n",
       "      <th></th>\n",
       "      <th></th>\n",
       "      <th></th>\n",
       "      <th></th>\n",
       "      <th></th>\n",
       "      <th></th>\n",
       "      <th></th>\n",
       "    </tr>\n",
       "  </thead>\n",
       "  <tbody>\n",
       "    <tr>\n",
       "      <th>278</th>\n",
       "      <td>The Shawshank Redemption</td>\n",
       "      <td>[Tim Robbins, Morgan Freeman, Bob Gunton, Clan...</td>\n",
       "      <td>[Thomas Newman, Roger Deakins, Philip Ivey, Pe...</td>\n",
       "      <td>25000000</td>\n",
       "      <td>[Drama, Crime]</td>\n",
       "      <td>[prison, corruption, police brutality, prison ...</td>\n",
       "      <td>en</td>\n",
       "      <td>The Shawshank Redemption</td>\n",
       "      <td>Framed in the 1940s for the double murder of h...</td>\n",
       "      <td>136.747729</td>\n",
       "      <td>...</td>\n",
       "      <td>142.0</td>\n",
       "      <td>[English]</td>\n",
       "      <td>Released</td>\n",
       "      <td>Fear can hold you prisoner. Hope can set you f...</td>\n",
       "      <td>8.5</td>\n",
       "      <td>8205</td>\n",
       "      <td>[Frank Darabont]</td>\n",
       "      <td>1.133659</td>\n",
       "      <td>1994</td>\n",
       "      <td>8.248795</td>\n",
       "    </tr>\n",
       "    <tr>\n",
       "      <th>550</th>\n",
       "      <td>Fight Club</td>\n",
       "      <td>[Edward Norton, Brad Pitt, Meat Loaf, Jared Le...</td>\n",
       "      <td>[Arnon Milchan, Michael Kaplan, Art Linson, Al...</td>\n",
       "      <td>63000000</td>\n",
       "      <td>[Drama]</td>\n",
       "      <td>[support group, dual identity, nihilism, rage ...</td>\n",
       "      <td>en</td>\n",
       "      <td>Fight Club</td>\n",
       "      <td>A ticking-time-bomb insomniac and a slippery s...</td>\n",
       "      <td>146.757391</td>\n",
       "      <td>...</td>\n",
       "      <td>139.0</td>\n",
       "      <td>[English]</td>\n",
       "      <td>Released</td>\n",
       "      <td>Mischief. Mayhem. Soap.</td>\n",
       "      <td>8.3</td>\n",
       "      <td>9413</td>\n",
       "      <td>[David Fincher]</td>\n",
       "      <td>1.600853</td>\n",
       "      <td>1999</td>\n",
       "      <td>8.096647</td>\n",
       "    </tr>\n",
       "    <tr>\n",
       "      <th>238</th>\n",
       "      <td>The Godfather</td>\n",
       "      <td>[Marlon Brando, Al Pacino, James Caan, Richard...</td>\n",
       "      <td>[Francis Ford Coppola, Francis Ford Coppola, G...</td>\n",
       "      <td>6000000</td>\n",
       "      <td>[Drama, Crime]</td>\n",
       "      <td>[italy, love at first sight, loss of father, p...</td>\n",
       "      <td>en</td>\n",
       "      <td>The Godfather</td>\n",
       "      <td>Spanning the years 1945 to 1955, a chronicle o...</td>\n",
       "      <td>143.659698</td>\n",
       "      <td>...</td>\n",
       "      <td>175.0</td>\n",
       "      <td>[English, Italiano, Latin]</td>\n",
       "      <td>Released</td>\n",
       "      <td>An offer you can't refuse.</td>\n",
       "      <td>8.4</td>\n",
       "      <td>5893</td>\n",
       "      <td>[Francis Ford Coppola]</td>\n",
       "      <td>40.844402</td>\n",
       "      <td>1972</td>\n",
       "      <td>8.078204</td>\n",
       "    </tr>\n",
       "    <tr>\n",
       "      <th>680</th>\n",
       "      <td>Pulp Fiction</td>\n",
       "      <td>[John Travolta, Samuel L. Jackson, Uma Thurman...</td>\n",
       "      <td>[Quentin Tarantino, Quentin Tarantino, Lawrenc...</td>\n",
       "      <td>8000000</td>\n",
       "      <td>[Thriller, Crime]</td>\n",
       "      <td>[transporter, brothel, drug dealer, boxer, mas...</td>\n",
       "      <td>en</td>\n",
       "      <td>Pulp Fiction</td>\n",
       "      <td>A burger-loving hit man, his philosophical par...</td>\n",
       "      <td>121.463076</td>\n",
       "      <td>...</td>\n",
       "      <td>154.0</td>\n",
       "      <td>[English, Español, Français]</td>\n",
       "      <td>Released</td>\n",
       "      <td>Just because you are a character doesn't mean ...</td>\n",
       "      <td>8.3</td>\n",
       "      <td>8428</td>\n",
       "      <td>[Quentin Tarantino]</td>\n",
       "      <td>26.741095</td>\n",
       "      <td>1994</td>\n",
       "      <td>8.075325</td>\n",
       "    </tr>\n",
       "    <tr>\n",
       "      <th>155</th>\n",
       "      <td>The Dark Knight</td>\n",
       "      <td>[Christian Bale, Heath Ledger, Aaron Eckhart, ...</td>\n",
       "      <td>[Lucinda Syson, Hans Zimmer, Charles Roven, Ch...</td>\n",
       "      <td>185000000</td>\n",
       "      <td>[Drama, Action, Crime, Thriller]</td>\n",
       "      <td>[dc comics, crime fighter, secret identity, sc...</td>\n",
       "      <td>en</td>\n",
       "      <td>The Dark Knight</td>\n",
       "      <td>Batman raises the stakes in his war on crime. ...</td>\n",
       "      <td>187.322927</td>\n",
       "      <td>...</td>\n",
       "      <td>152.0</td>\n",
       "      <td>[English, 普通话]</td>\n",
       "      <td>Released</td>\n",
       "      <td>Why So Serious?</td>\n",
       "      <td>8.2</td>\n",
       "      <td>12002</td>\n",
       "      <td>[Christopher Nolan]</td>\n",
       "      <td>5.430046</td>\n",
       "      <td>2008</td>\n",
       "      <td>8.044695</td>\n",
       "    </tr>\n",
       "    <tr>\n",
       "      <th>13</th>\n",
       "      <td>Forrest Gump</td>\n",
       "      <td>[Tom Hanks, Robin Wright, Gary Sinise, Mykelti...</td>\n",
       "      <td>[Alan Silvestri, Robert Zemeckis, Winston Groo...</td>\n",
       "      <td>55000000</td>\n",
       "      <td>[Comedy, Drama, Romance]</td>\n",
       "      <td>[vietnam veteran, hippie, mentally disabled, r...</td>\n",
       "      <td>en</td>\n",
       "      <td>Forrest Gump</td>\n",
       "      <td>A man with a low IQ has accomplished great thi...</td>\n",
       "      <td>138.133331</td>\n",
       "      <td>...</td>\n",
       "      <td>142.0</td>\n",
       "      <td>[English]</td>\n",
       "      <td>Released</td>\n",
       "      <td>The world will never be the same, once you've ...</td>\n",
       "      <td>8.2</td>\n",
       "      <td>7927</td>\n",
       "      <td>[Robert Zemeckis]</td>\n",
       "      <td>12.326280</td>\n",
       "      <td>1994</td>\n",
       "      <td>7.973530</td>\n",
       "    </tr>\n",
       "    <tr>\n",
       "      <th>27205</th>\n",
       "      <td>Inception</td>\n",
       "      <td>[Leonardo DiCaprio, Joseph Gordon-Levitt, Elle...</td>\n",
       "      <td>[Hans Zimmer, Christopher Nolan, Christopher N...</td>\n",
       "      <td>160000000</td>\n",
       "      <td>[Action, Thriller, Science Fiction, Mystery, A...</td>\n",
       "      <td>[loss of lover, dream, kidnapping, sleep, subc...</td>\n",
       "      <td>en</td>\n",
       "      <td>Inception</td>\n",
       "      <td>Cobb, a skilled thief who commits corporate es...</td>\n",
       "      <td>167.583710</td>\n",
       "      <td>...</td>\n",
       "      <td>148.0</td>\n",
       "      <td>[English, 日本語, Français]</td>\n",
       "      <td>Released</td>\n",
       "      <td>Your mind is the scene of the crime.</td>\n",
       "      <td>8.1</td>\n",
       "      <td>13752</td>\n",
       "      <td>[Christopher Nolan]</td>\n",
       "      <td>5.159580</td>\n",
       "      <td>2010</td>\n",
       "      <td>7.969724</td>\n",
       "    </tr>\n",
       "    <tr>\n",
       "      <th>157336</th>\n",
       "      <td>Interstellar</td>\n",
       "      <td>[Matthew McConaughey, Jessica Chastain, Anne H...</td>\n",
       "      <td>[Hans Zimmer, Christopher Nolan, Christopher N...</td>\n",
       "      <td>165000000</td>\n",
       "      <td>[Adventure, Drama, Science Fiction]</td>\n",
       "      <td>[saving the world, artificial intelligence, fa...</td>\n",
       "      <td>en</td>\n",
       "      <td>Interstellar</td>\n",
       "      <td>Interstellar chronicles the adventures of a gr...</td>\n",
       "      <td>724.247784</td>\n",
       "      <td>...</td>\n",
       "      <td>169.0</td>\n",
       "      <td>[English]</td>\n",
       "      <td>Released</td>\n",
       "      <td>Mankind was born on Earth. It was never meant ...</td>\n",
       "      <td>8.1</td>\n",
       "      <td>10867</td>\n",
       "      <td>[Christopher Nolan]</td>\n",
       "      <td>4.091636</td>\n",
       "      <td>2014</td>\n",
       "      <td>7.937962</td>\n",
       "    </tr>\n",
       "    <tr>\n",
       "      <th>1891</th>\n",
       "      <td>The Empire Strikes Back</td>\n",
       "      <td>[Mark Hamill, Harrison Ford, Carrie Fisher, Bi...</td>\n",
       "      <td>[George Lucas, George Lucas, George Lucas, Gar...</td>\n",
       "      <td>18000000</td>\n",
       "      <td>[Adventure, Action, Science Fiction]</td>\n",
       "      <td>[rebel, android, asteroid, space battle, snow ...</td>\n",
       "      <td>en</td>\n",
       "      <td>The Empire Strikes Back</td>\n",
       "      <td>The epic saga continues as Luke Skywalker, in ...</td>\n",
       "      <td>78.517830</td>\n",
       "      <td>...</td>\n",
       "      <td>124.0</td>\n",
       "      <td>[English]</td>\n",
       "      <td>Released</td>\n",
       "      <td>The Adventure Continues...</td>\n",
       "      <td>8.2</td>\n",
       "      <td>5879</td>\n",
       "      <td>[Irvin Kershner]</td>\n",
       "      <td>29.911111</td>\n",
       "      <td>1980</td>\n",
       "      <td>7.905770</td>\n",
       "    </tr>\n",
       "    <tr>\n",
       "      <th>424</th>\n",
       "      <td>Schindler's List</td>\n",
       "      <td>[Liam Neeson, Ben Kingsley, Ralph Fiennes, Car...</td>\n",
       "      <td>[John Williams, Steven Spielberg, Steven Spiel...</td>\n",
       "      <td>22000000</td>\n",
       "      <td>[Drama, History, War]</td>\n",
       "      <td>[factory, concentration camp, hero, holocaust,...</td>\n",
       "      <td>en</td>\n",
       "      <td>Schindler's List</td>\n",
       "      <td>The true story of how businessman Oskar Schind...</td>\n",
       "      <td>104.469351</td>\n",
       "      <td>...</td>\n",
       "      <td>195.0</td>\n",
       "      <td>[Deutsch, Polski, עִבְרִית, English]</td>\n",
       "      <td>Released</td>\n",
       "      <td>Whoever saves one life, saves the world entire.</td>\n",
       "      <td>8.3</td>\n",
       "      <td>4329</td>\n",
       "      <td>[Steven Spielberg]</td>\n",
       "      <td>14.607526</td>\n",
       "      <td>1993</td>\n",
       "      <td>7.901397</td>\n",
       "    </tr>\n",
       "  </tbody>\n",
       "</table>\n",
       "<p>10 rows × 24 columns</p>\n",
       "</div>"
      ],
      "text/plain": [
       "                             title  \\\n",
       "movie_id                             \n",
       "278       The Shawshank Redemption   \n",
       "550                     Fight Club   \n",
       "238                  The Godfather   \n",
       "680                   Pulp Fiction   \n",
       "155                The Dark Knight   \n",
       "13                    Forrest Gump   \n",
       "27205                    Inception   \n",
       "157336                Interstellar   \n",
       "1891       The Empire Strikes Back   \n",
       "424               Schindler's List   \n",
       "\n",
       "                                                       cast  \\\n",
       "movie_id                                                      \n",
       "278       [Tim Robbins, Morgan Freeman, Bob Gunton, Clan...   \n",
       "550       [Edward Norton, Brad Pitt, Meat Loaf, Jared Le...   \n",
       "238       [Marlon Brando, Al Pacino, James Caan, Richard...   \n",
       "680       [John Travolta, Samuel L. Jackson, Uma Thurman...   \n",
       "155       [Christian Bale, Heath Ledger, Aaron Eckhart, ...   \n",
       "13        [Tom Hanks, Robin Wright, Gary Sinise, Mykelti...   \n",
       "27205     [Leonardo DiCaprio, Joseph Gordon-Levitt, Elle...   \n",
       "157336    [Matthew McConaughey, Jessica Chastain, Anne H...   \n",
       "1891      [Mark Hamill, Harrison Ford, Carrie Fisher, Bi...   \n",
       "424       [Liam Neeson, Ben Kingsley, Ralph Fiennes, Car...   \n",
       "\n",
       "                                                       crew     budget  \\\n",
       "movie_id                                                                 \n",
       "278       [Thomas Newman, Roger Deakins, Philip Ivey, Pe...   25000000   \n",
       "550       [Arnon Milchan, Michael Kaplan, Art Linson, Al...   63000000   \n",
       "238       [Francis Ford Coppola, Francis Ford Coppola, G...    6000000   \n",
       "680       [Quentin Tarantino, Quentin Tarantino, Lawrenc...    8000000   \n",
       "155       [Lucinda Syson, Hans Zimmer, Charles Roven, Ch...  185000000   \n",
       "13        [Alan Silvestri, Robert Zemeckis, Winston Groo...   55000000   \n",
       "27205     [Hans Zimmer, Christopher Nolan, Christopher N...  160000000   \n",
       "157336    [Hans Zimmer, Christopher Nolan, Christopher N...  165000000   \n",
       "1891      [George Lucas, George Lucas, George Lucas, Gar...   18000000   \n",
       "424       [John Williams, Steven Spielberg, Steven Spiel...   22000000   \n",
       "\n",
       "                                                     genres  \\\n",
       "movie_id                                                      \n",
       "278                                          [Drama, Crime]   \n",
       "550                                                 [Drama]   \n",
       "238                                          [Drama, Crime]   \n",
       "680                                       [Thriller, Crime]   \n",
       "155                        [Drama, Action, Crime, Thriller]   \n",
       "13                                 [Comedy, Drama, Romance]   \n",
       "27205     [Action, Thriller, Science Fiction, Mystery, A...   \n",
       "157336                  [Adventure, Drama, Science Fiction]   \n",
       "1891                   [Adventure, Action, Science Fiction]   \n",
       "424                                   [Drama, History, War]   \n",
       "\n",
       "                                                   keywords original_language  \\\n",
       "movie_id                                                                        \n",
       "278       [prison, corruption, police brutality, prison ...                en   \n",
       "550       [support group, dual identity, nihilism, rage ...                en   \n",
       "238       [italy, love at first sight, loss of father, p...                en   \n",
       "680       [transporter, brothel, drug dealer, boxer, mas...                en   \n",
       "155       [dc comics, crime fighter, secret identity, sc...                en   \n",
       "13        [vietnam veteran, hippie, mentally disabled, r...                en   \n",
       "27205     [loss of lover, dream, kidnapping, sleep, subc...                en   \n",
       "157336    [saving the world, artificial intelligence, fa...                en   \n",
       "1891      [rebel, android, asteroid, space battle, snow ...                en   \n",
       "424       [factory, concentration camp, hero, holocaust,...                en   \n",
       "\n",
       "                    original_title  \\\n",
       "movie_id                             \n",
       "278       The Shawshank Redemption   \n",
       "550                     Fight Club   \n",
       "238                  The Godfather   \n",
       "680                   Pulp Fiction   \n",
       "155                The Dark Knight   \n",
       "13                    Forrest Gump   \n",
       "27205                    Inception   \n",
       "157336                Interstellar   \n",
       "1891       The Empire Strikes Back   \n",
       "424               Schindler's List   \n",
       "\n",
       "                                                   overview  popularity  ...  \\\n",
       "movie_id                                                                 ...   \n",
       "278       Framed in the 1940s for the double murder of h...  136.747729  ...   \n",
       "550       A ticking-time-bomb insomniac and a slippery s...  146.757391  ...   \n",
       "238       Spanning the years 1945 to 1955, a chronicle o...  143.659698  ...   \n",
       "680       A burger-loving hit man, his philosophical par...  121.463076  ...   \n",
       "155       Batman raises the stakes in his war on crime. ...  187.322927  ...   \n",
       "13        A man with a low IQ has accomplished great thi...  138.133331  ...   \n",
       "27205     Cobb, a skilled thief who commits corporate es...  167.583710  ...   \n",
       "157336    Interstellar chronicles the adventures of a gr...  724.247784  ...   \n",
       "1891      The epic saga continues as Luke Skywalker, in ...   78.517830  ...   \n",
       "424       The true story of how businessman Oskar Schind...  104.469351  ...   \n",
       "\n",
       "         runtime                      spoken_languages    status  \\\n",
       "movie_id                                                           \n",
       "278        142.0                             [English]  Released   \n",
       "550        139.0                             [English]  Released   \n",
       "238        175.0            [English, Italiano, Latin]  Released   \n",
       "680        154.0          [English, Español, Français]  Released   \n",
       "155        152.0                        [English, 普通话]  Released   \n",
       "13         142.0                             [English]  Released   \n",
       "27205      148.0              [English, 日本語, Français]  Released   \n",
       "157336     169.0                             [English]  Released   \n",
       "1891       124.0                             [English]  Released   \n",
       "424        195.0  [Deutsch, Polski, עִבְרִית, English]  Released   \n",
       "\n",
       "                                                    tagline  vote_average  \\\n",
       "movie_id                                                                    \n",
       "278       Fear can hold you prisoner. Hope can set you f...           8.5   \n",
       "550                                 Mischief. Mayhem. Soap.           8.3   \n",
       "238                              An offer you can't refuse.           8.4   \n",
       "680       Just because you are a character doesn't mean ...           8.3   \n",
       "155                                         Why So Serious?           8.2   \n",
       "13        The world will never be the same, once you've ...           8.2   \n",
       "27205                  Your mind is the scene of the crime.           8.1   \n",
       "157336    Mankind was born on Earth. It was never meant ...           8.1   \n",
       "1891                             The Adventure Continues...           8.2   \n",
       "424         Whoever saves one life, saves the world entire.           8.3   \n",
       "\n",
       "         vote_count                director profit_rate  year  weighted_rating  \n",
       "movie_id                                                                        \n",
       "278            8205        [Frank Darabont]    1.133659  1994         8.248795  \n",
       "550            9413         [David Fincher]    1.600853  1999         8.096647  \n",
       "238            5893  [Francis Ford Coppola]   40.844402  1972         8.078204  \n",
       "680            8428     [Quentin Tarantino]   26.741095  1994         8.075325  \n",
       "155           12002     [Christopher Nolan]    5.430046  2008         8.044695  \n",
       "13             7927       [Robert Zemeckis]   12.326280  1994         7.973530  \n",
       "27205         13752     [Christopher Nolan]    5.159580  2010         7.969724  \n",
       "157336        10867     [Christopher Nolan]    4.091636  2014         7.937962  \n",
       "1891           5879        [Irvin Kershner]   29.911111  1980         7.905770  \n",
       "424            4329      [Steven Spielberg]   14.607526  1993         7.901397  \n",
       "\n",
       "[10 rows x 24 columns]"
      ]
     },
     "execution_count": 61,
     "metadata": {},
     "output_type": "execute_result"
    }
   ],
   "source": [
    "# The best movies of all time ...\n",
    "data.sort_values('weighted_rating', ascending=False).head(10)"
   ]
  },
  {
   "cell_type": "code",
   "execution_count": 62,
   "metadata": {
    "hidden": true
   },
   "outputs": [
    {
     "data": {
      "image/png": "[encoded data removed]",
      "text/plain": [
       "<Figure size 720x432 with 1 Axes>"
      ]
     },
     "metadata": {
      "needs_background": "light"
     },
     "output_type": "display_data"
    }
   ],
   "source": [
    "weight_average=data.sort_values('weighted_rating',ascending=False)\n",
    "plt.figure(figsize=(10,6))\n",
    "axis1=sns.barplot(x=weight_average['weighted_rating'].head(10), y=weight_average['original_title'].head(10), data=weight_average)\n",
    "plt.xlim(5, 10)\n",
    "plt.title('Best Movies of all times', weight='bold')\n",
    "plt.xlabel('Weighted Score', weight='bold')\n",
    "plt.ylabel('Movie', weight='bold');"
   ]
  },
  {
   "cell_type": "code",
   "execution_count": 63,
   "metadata": {
    "hidden": true
   },
   "outputs": [
    {
     "data": {
      "text/html": [
       "<div>\n",
       "<style scoped>\n",
       "    .dataframe tbody tr th:only-of-type {\n",
       "        vertical-align: middle;\n",
       "    }\n",
       "\n",
       "    .dataframe tbody tr th {\n",
       "        vertical-align: top;\n",
       "    }\n",
       "\n",
       "    .dataframe thead th {\n",
       "        text-align: right;\n",
       "    }\n",
       "</style>\n",
       "<table border=\"1\" class=\"dataframe\">\n",
       "  <thead>\n",
       "    <tr style=\"text-align: right;\">\n",
       "      <th></th>\n",
       "      <th>title</th>\n",
       "      <th>cast</th>\n",
       "      <th>crew</th>\n",
       "      <th>budget</th>\n",
       "      <th>genres</th>\n",
       "      <th>keywords</th>\n",
       "      <th>original_language</th>\n",
       "      <th>original_title</th>\n",
       "      <th>overview</th>\n",
       "      <th>popularity</th>\n",
       "      <th>...</th>\n",
       "      <th>runtime</th>\n",
       "      <th>spoken_languages</th>\n",
       "      <th>status</th>\n",
       "      <th>tagline</th>\n",
       "      <th>vote_average</th>\n",
       "      <th>vote_count</th>\n",
       "      <th>director</th>\n",
       "      <th>profit_rate</th>\n",
       "      <th>year</th>\n",
       "      <th>weighted_rating</th>\n",
       "    </tr>\n",
       "    <tr>\n",
       "      <th>movie_id</th>\n",
       "      <th></th>\n",
       "      <th></th>\n",
       "      <th></th>\n",
       "      <th></th>\n",
       "      <th></th>\n",
       "      <th></th>\n",
       "      <th></th>\n",
       "      <th></th>\n",
       "      <th></th>\n",
       "      <th></th>\n",
       "      <th></th>\n",
       "      <th></th>\n",
       "      <th></th>\n",
       "      <th></th>\n",
       "      <th></th>\n",
       "      <th></th>\n",
       "      <th></th>\n",
       "      <th></th>\n",
       "      <th></th>\n",
       "      <th></th>\n",
       "      <th></th>\n",
       "    </tr>\n",
       "  </thead>\n",
       "  <tbody>\n",
       "    <tr>\n",
       "      <th>211672</th>\n",
       "      <td>Minions</td>\n",
       "      <td>[Sandra Bullock, Jon Hamm, Michael Keaton, All...</td>\n",
       "      <td>[Christopher Meledandri, Kyle Balda, Ken Dauri...</td>\n",
       "      <td>74000000</td>\n",
       "      <td>[Family, Animation, Adventure, Comedy]</td>\n",
       "      <td>[assistant, aftercreditsstinger, duringcredits...</td>\n",
       "      <td>en</td>\n",
       "      <td>Minions</td>\n",
       "      <td>Minions Stuart, Kevin and Bob are recruited by...</td>\n",
       "      <td>875.581305</td>\n",
       "      <td>...</td>\n",
       "      <td>91.0</td>\n",
       "      <td>[English]</td>\n",
       "      <td>Released</td>\n",
       "      <td>Before Gru, they had a history of bad bosses</td>\n",
       "      <td>6.4</td>\n",
       "      <td>4571</td>\n",
       "      <td>[Kyle Balda]</td>\n",
       "      <td>15.631499</td>\n",
       "      <td>2015</td>\n",
       "      <td>6.350298</td>\n",
       "    </tr>\n",
       "    <tr>\n",
       "      <th>157336</th>\n",
       "      <td>Interstellar</td>\n",
       "      <td>[Matthew McConaughey, Jessica Chastain, Anne H...</td>\n",
       "      <td>[Hans Zimmer, Christopher Nolan, Christopher N...</td>\n",
       "      <td>165000000</td>\n",
       "      <td>[Adventure, Drama, Science Fiction]</td>\n",
       "      <td>[saving the world, artificial intelligence, fa...</td>\n",
       "      <td>en</td>\n",
       "      <td>Interstellar</td>\n",
       "      <td>Interstellar chronicles the adventures of a gr...</td>\n",
       "      <td>724.247784</td>\n",
       "      <td>...</td>\n",
       "      <td>169.0</td>\n",
       "      <td>[English]</td>\n",
       "      <td>Released</td>\n",
       "      <td>Mankind was born on Earth. It was never meant ...</td>\n",
       "      <td>8.1</td>\n",
       "      <td>10867</td>\n",
       "      <td>[Christopher Nolan]</td>\n",
       "      <td>4.091636</td>\n",
       "      <td>2014</td>\n",
       "      <td>7.937962</td>\n",
       "    </tr>\n",
       "    <tr>\n",
       "      <th>293660</th>\n",
       "      <td>Deadpool</td>\n",
       "      <td>[Ryan Reynolds, Morena Baccarin, Ed Skrein, T....</td>\n",
       "      <td>[Ronna Kress, Sala Baker, Lauren Shuler Donner...</td>\n",
       "      <td>58000000</td>\n",
       "      <td>[Action, Adventure, Comedy]</td>\n",
       "      <td>[anti hero, mercenary, marvel comic, superhero...</td>\n",
       "      <td>en</td>\n",
       "      <td>Deadpool</td>\n",
       "      <td>Deadpool tells the origin story of former Spec...</td>\n",
       "      <td>514.569956</td>\n",
       "      <td>...</td>\n",
       "      <td>108.0</td>\n",
       "      <td>[English]</td>\n",
       "      <td>Released</td>\n",
       "      <td>Witness the beginning of a happy ending</td>\n",
       "      <td>7.4</td>\n",
       "      <td>10995</td>\n",
       "      <td>[Tim Miller]</td>\n",
       "      <td>13.501948</td>\n",
       "      <td>2016</td>\n",
       "      <td>7.296229</td>\n",
       "    </tr>\n",
       "    <tr>\n",
       "      <th>118340</th>\n",
       "      <td>Guardians of the Galaxy</td>\n",
       "      <td>[Chris Pratt, Zoe Saldana, Dave Bautista, Vin ...</td>\n",
       "      <td>[Craig Wood, Christopher Boyes, Christopher Bo...</td>\n",
       "      <td>170000000</td>\n",
       "      <td>[Action, Science Fiction, Adventure]</td>\n",
       "      <td>[marvel comic, spaceship, space, outer space, ...</td>\n",
       "      <td>en</td>\n",
       "      <td>Guardians of the Galaxy</td>\n",
       "      <td>Light years from Earth, 26 years after being a...</td>\n",
       "      <td>481.098624</td>\n",
       "      <td>...</td>\n",
       "      <td>121.0</td>\n",
       "      <td>[English]</td>\n",
       "      <td>Released</td>\n",
       "      <td>All heroes start somewhere.</td>\n",
       "      <td>7.9</td>\n",
       "      <td>9742</td>\n",
       "      <td>[James Gunn]</td>\n",
       "      <td>4.548992</td>\n",
       "      <td>2014</td>\n",
       "      <td>7.738980</td>\n",
       "    </tr>\n",
       "    <tr>\n",
       "      <th>76341</th>\n",
       "      <td>Mad Max: Fury Road</td>\n",
       "      <td>[Tom Hardy, Charlize Theron, Nicholas Hoult, H...</td>\n",
       "      <td>[Iain Smith, Ronna Kress, Bruce Berman, John S...</td>\n",
       "      <td>150000000</td>\n",
       "      <td>[Action, Adventure, Science Fiction, Thriller]</td>\n",
       "      <td>[future, chase, post-apocalyptic, dystopia, au...</td>\n",
       "      <td>en</td>\n",
       "      <td>Mad Max: Fury Road</td>\n",
       "      <td>An apocalyptic story set in the furthest reach...</td>\n",
       "      <td>434.278564</td>\n",
       "      <td>...</td>\n",
       "      <td>120.0</td>\n",
       "      <td>[English]</td>\n",
       "      <td>Released</td>\n",
       "      <td>What a Lovely Day.</td>\n",
       "      <td>7.2</td>\n",
       "      <td>9427</td>\n",
       "      <td>[George Miller]</td>\n",
       "      <td>2.525722</td>\n",
       "      <td>2015</td>\n",
       "      <td>7.099163</td>\n",
       "    </tr>\n",
       "    <tr>\n",
       "      <th>135397</th>\n",
       "      <td>Jurassic World</td>\n",
       "      <td>[Chris Pratt, Bryce Dallas Howard, Irrfan Khan...</td>\n",
       "      <td>[Steven Spielberg, John Papsidera, Frank Marsh...</td>\n",
       "      <td>150000000</td>\n",
       "      <td>[Action, Adventure, Science Fiction, Thriller]</td>\n",
       "      <td>[monster, dna, tyrannosaurus rex, velociraptor...</td>\n",
       "      <td>en</td>\n",
       "      <td>Jurassic World</td>\n",
       "      <td>Twenty-two years after the events of Jurassic ...</td>\n",
       "      <td>418.708552</td>\n",
       "      <td>...</td>\n",
       "      <td>124.0</td>\n",
       "      <td>[English]</td>\n",
       "      <td>Released</td>\n",
       "      <td>The park is open.</td>\n",
       "      <td>6.5</td>\n",
       "      <td>8662</td>\n",
       "      <td>[Colin Trevorrow]</td>\n",
       "      <td>10.090192</td>\n",
       "      <td>2015</td>\n",
       "      <td>6.461383</td>\n",
       "    </tr>\n",
       "    <tr>\n",
       "      <th>22</th>\n",
       "      <td>Pirates of the Caribbean: The Curse of the Bla...</td>\n",
       "      <td>[Johnny Depp, Geoffrey Rush, Orlando Bloom, Ke...</td>\n",
       "      <td>[Arthur Schmidt, Dariusz Wolski, Klaus Badelt,...</td>\n",
       "      <td>140000000</td>\n",
       "      <td>[Adventure, Fantasy, Action]</td>\n",
       "      <td>[exotic island, blacksmith, east india trading...</td>\n",
       "      <td>en</td>\n",
       "      <td>Pirates of the Caribbean: The Curse of the Bla...</td>\n",
       "      <td>Jack Sparrow, a freewheeling 17th-century pira...</td>\n",
       "      <td>271.972889</td>\n",
       "      <td>...</td>\n",
       "      <td>143.0</td>\n",
       "      <td>[English]</td>\n",
       "      <td>Released</td>\n",
       "      <td>Prepare to be blown out of the water.</td>\n",
       "      <td>7.5</td>\n",
       "      <td>6985</td>\n",
       "      <td>[Gore Verbinski]</td>\n",
       "      <td>4.678652</td>\n",
       "      <td>2003</td>\n",
       "      <td>7.331744</td>\n",
       "    </tr>\n",
       "    <tr>\n",
       "      <th>119450</th>\n",
       "      <td>Dawn of the Planet of the Apes</td>\n",
       "      <td>[Andy Serkis, Jason Clarke, Gary Oldman, Keri ...</td>\n",
       "      <td>[Kevin Mangan, Debra Zane, Doug Jackson, Willi...</td>\n",
       "      <td>170000000</td>\n",
       "      <td>[Science Fiction, Action, Drama, Thriller]</td>\n",
       "      <td>[leader, colony, post-apocalyptic, dystopia, f...</td>\n",
       "      <td>en</td>\n",
       "      <td>Dawn of the Planet of the Apes</td>\n",
       "      <td>A group of scientists in San Francisco struggl...</td>\n",
       "      <td>243.791743</td>\n",
       "      <td>...</td>\n",
       "      <td>130.0</td>\n",
       "      <td>[English]</td>\n",
       "      <td>Released</td>\n",
       "      <td>One last chance for peace.</td>\n",
       "      <td>7.3</td>\n",
       "      <td>4410</td>\n",
       "      <td>[Matt Reeves]</td>\n",
       "      <td>4.180262</td>\n",
       "      <td>2014</td>\n",
       "      <td>7.087091</td>\n",
       "    </tr>\n",
       "    <tr>\n",
       "      <th>131631</th>\n",
       "      <td>The Hunger Games: Mockingjay - Part 1</td>\n",
       "      <td>[Jennifer Lawrence, Josh Hutcherson, Liam Hems...</td>\n",
       "      <td>[Debra Zane, James Newton Howard, Philip Seymo...</td>\n",
       "      <td>125000000</td>\n",
       "      <td>[Science Fiction, Adventure, Thriller]</td>\n",
       "      <td>[resistance, post-apocalyptic, dystopia, war, ...</td>\n",
       "      <td>en</td>\n",
       "      <td>The Hunger Games: Mockingjay - Part 1</td>\n",
       "      <td>Katniss Everdeen reluctantly becomes the symbo...</td>\n",
       "      <td>206.227151</td>\n",
       "      <td>...</td>\n",
       "      <td>123.0</td>\n",
       "      <td>[English]</td>\n",
       "      <td>Released</td>\n",
       "      <td>Fire burns brighter in the darkness</td>\n",
       "      <td>6.6</td>\n",
       "      <td>5584</td>\n",
       "      <td>[Francis Lawrence]</td>\n",
       "      <td>6.016802</td>\n",
       "      <td>2014</td>\n",
       "      <td>6.528488</td>\n",
       "    </tr>\n",
       "    <tr>\n",
       "      <th>177572</th>\n",
       "      <td>Big Hero 6</td>\n",
       "      <td>[Scott Adsit, Ryan Potter, Daniel Henney, T.J....</td>\n",
       "      <td>[John Lasseter, Robert Richardson, Mark Henley...</td>\n",
       "      <td>165000000</td>\n",
       "      <td>[Adventure, Family, Animation, Action, Comedy]</td>\n",
       "      <td>[brother brother relationship, hero, talent, r...</td>\n",
       "      <td>en</td>\n",
       "      <td>Big Hero 6</td>\n",
       "      <td>The special bond that develops between plus-si...</td>\n",
       "      <td>203.734590</td>\n",
       "      <td>...</td>\n",
       "      <td>102.0</td>\n",
       "      <td>[English]</td>\n",
       "      <td>Released</td>\n",
       "      <td>From the creators of Wreck-it Ralph and Frozen</td>\n",
       "      <td>7.8</td>\n",
       "      <td>6135</td>\n",
       "      <td>[Chris Williams]</td>\n",
       "      <td>3.952154</td>\n",
       "      <td>2014</td>\n",
       "      <td>7.570793</td>\n",
       "    </tr>\n",
       "  </tbody>\n",
       "</table>\n",
       "<p>10 rows × 24 columns</p>\n",
       "</div>"
      ],
      "text/plain": [
       "                                                      title  \\\n",
       "movie_id                                                      \n",
       "211672                                              Minions   \n",
       "157336                                         Interstellar   \n",
       "293660                                             Deadpool   \n",
       "118340                              Guardians of the Galaxy   \n",
       "76341                                    Mad Max: Fury Road   \n",
       "135397                                       Jurassic World   \n",
       "22        Pirates of the Caribbean: The Curse of the Bla...   \n",
       "119450                       Dawn of the Planet of the Apes   \n",
       "131631                The Hunger Games: Mockingjay - Part 1   \n",
       "177572                                           Big Hero 6   \n",
       "\n",
       "                                                       cast  \\\n",
       "movie_id                                                      \n",
       "211672    [Sandra Bullock, Jon Hamm, Michael Keaton, All...   \n",
       "157336    [Matthew McConaughey, Jessica Chastain, Anne H...   \n",
       "293660    [Ryan Reynolds, Morena Baccarin, Ed Skrein, T....   \n",
       "118340    [Chris Pratt, Zoe Saldana, Dave Bautista, Vin ...   \n",
       "76341     [Tom Hardy, Charlize Theron, Nicholas Hoult, H...   \n",
       "135397    [Chris Pratt, Bryce Dallas Howard, Irrfan Khan...   \n",
       "22        [Johnny Depp, Geoffrey Rush, Orlando Bloom, Ke...   \n",
       "119450    [Andy Serkis, Jason Clarke, Gary Oldman, Keri ...   \n",
       "131631    [Jennifer Lawrence, Josh Hutcherson, Liam Hems...   \n",
       "177572    [Scott Adsit, Ryan Potter, Daniel Henney, T.J....   \n",
       "\n",
       "                                                       crew     budget  \\\n",
       "movie_id                                                                 \n",
       "211672    [Christopher Meledandri, Kyle Balda, Ken Dauri...   74000000   \n",
       "157336    [Hans Zimmer, Christopher Nolan, Christopher N...  165000000   \n",
       "293660    [Ronna Kress, Sala Baker, Lauren Shuler Donner...   58000000   \n",
       "118340    [Craig Wood, Christopher Boyes, Christopher Bo...  170000000   \n",
       "76341     [Iain Smith, Ronna Kress, Bruce Berman, John S...  150000000   \n",
       "135397    [Steven Spielberg, John Papsidera, Frank Marsh...  150000000   \n",
       "22        [Arthur Schmidt, Dariusz Wolski, Klaus Badelt,...  140000000   \n",
       "119450    [Kevin Mangan, Debra Zane, Doug Jackson, Willi...  170000000   \n",
       "131631    [Debra Zane, James Newton Howard, Philip Seymo...  125000000   \n",
       "177572    [John Lasseter, Robert Richardson, Mark Henley...  165000000   \n",
       "\n",
       "                                                  genres  \\\n",
       "movie_id                                                   \n",
       "211672            [Family, Animation, Adventure, Comedy]   \n",
       "157336               [Adventure, Drama, Science Fiction]   \n",
       "293660                       [Action, Adventure, Comedy]   \n",
       "118340              [Action, Science Fiction, Adventure]   \n",
       "76341     [Action, Adventure, Science Fiction, Thriller]   \n",
       "135397    [Action, Adventure, Science Fiction, Thriller]   \n",
       "22                          [Adventure, Fantasy, Action]   \n",
       "119450        [Science Fiction, Action, Drama, Thriller]   \n",
       "131631            [Science Fiction, Adventure, Thriller]   \n",
       "177572    [Adventure, Family, Animation, Action, Comedy]   \n",
       "\n",
       "                                                   keywords original_language  \\\n",
       "movie_id                                                                        \n",
       "211672    [assistant, aftercreditsstinger, duringcredits...                en   \n",
       "157336    [saving the world, artificial intelligence, fa...                en   \n",
       "293660    [anti hero, mercenary, marvel comic, superhero...                en   \n",
       "118340    [marvel comic, spaceship, space, outer space, ...                en   \n",
       "76341     [future, chase, post-apocalyptic, dystopia, au...                en   \n",
       "135397    [monster, dna, tyrannosaurus rex, velociraptor...                en   \n",
       "22        [exotic island, blacksmith, east india trading...                en   \n",
       "119450    [leader, colony, post-apocalyptic, dystopia, f...                en   \n",
       "131631    [resistance, post-apocalyptic, dystopia, war, ...                en   \n",
       "177572    [brother brother relationship, hero, talent, r...                en   \n",
       "\n",
       "                                             original_title  \\\n",
       "movie_id                                                      \n",
       "211672                                              Minions   \n",
       "157336                                         Interstellar   \n",
       "293660                                             Deadpool   \n",
       "118340                              Guardians of the Galaxy   \n",
       "76341                                    Mad Max: Fury Road   \n",
       "135397                                       Jurassic World   \n",
       "22        Pirates of the Caribbean: The Curse of the Bla...   \n",
       "119450                       Dawn of the Planet of the Apes   \n",
       "131631                The Hunger Games: Mockingjay - Part 1   \n",
       "177572                                           Big Hero 6   \n",
       "\n",
       "                                                   overview  popularity  ...  \\\n",
       "movie_id                                                                 ...   \n",
       "211672    Minions Stuart, Kevin and Bob are recruited by...  875.581305  ...   \n",
       "157336    Interstellar chronicles the adventures of a gr...  724.247784  ...   \n",
       "293660    Deadpool tells the origin story of former Spec...  514.569956  ...   \n",
       "118340    Light years from Earth, 26 years after being a...  481.098624  ...   \n",
       "76341     An apocalyptic story set in the furthest reach...  434.278564  ...   \n",
       "135397    Twenty-two years after the events of Jurassic ...  418.708552  ...   \n",
       "22        Jack Sparrow, a freewheeling 17th-century pira...  271.972889  ...   \n",
       "119450    A group of scientists in San Francisco struggl...  243.791743  ...   \n",
       "131631    Katniss Everdeen reluctantly becomes the symbo...  206.227151  ...   \n",
       "177572    The special bond that develops between plus-si...  203.734590  ...   \n",
       "\n",
       "         runtime spoken_languages    status  \\\n",
       "movie_id                                      \n",
       "211672      91.0        [English]  Released   \n",
       "157336     169.0        [English]  Released   \n",
       "293660     108.0        [English]  Released   \n",
       "118340     121.0        [English]  Released   \n",
       "76341      120.0        [English]  Released   \n",
       "135397     124.0        [English]  Released   \n",
       "22         143.0        [English]  Released   \n",
       "119450     130.0        [English]  Released   \n",
       "131631     123.0        [English]  Released   \n",
       "177572     102.0        [English]  Released   \n",
       "\n",
       "                                                    tagline  vote_average  \\\n",
       "movie_id                                                                    \n",
       "211672         Before Gru, they had a history of bad bosses           6.4   \n",
       "157336    Mankind was born on Earth. It was never meant ...           8.1   \n",
       "293660              Witness the beginning of a happy ending           7.4   \n",
       "118340                          All heroes start somewhere.           7.9   \n",
       "76341                                    What a Lovely Day.           7.2   \n",
       "135397                                    The park is open.           6.5   \n",
       "22                    Prepare to be blown out of the water.           7.5   \n",
       "119450                           One last chance for peace.           7.3   \n",
       "131631                  Fire burns brighter in the darkness           6.6   \n",
       "177572       From the creators of Wreck-it Ralph and Frozen           7.8   \n",
       "\n",
       "         vote_count             director profit_rate  year  weighted_rating  \n",
       "movie_id                                                                     \n",
       "211672         4571         [Kyle Balda]   15.631499  2015         6.350298  \n",
       "157336        10867  [Christopher Nolan]    4.091636  2014         7.937962  \n",
       "293660        10995         [Tim Miller]   13.501948  2016         7.296229  \n",
       "118340         9742         [James Gunn]    4.548992  2014         7.738980  \n",
       "76341          9427      [George Miller]    2.525722  2015         7.099163  \n",
       "135397         8662    [Colin Trevorrow]   10.090192  2015         6.461383  \n",
       "22             6985     [Gore Verbinski]    4.678652  2003         7.331744  \n",
       "119450         4410        [Matt Reeves]    4.180262  2014         7.087091  \n",
       "131631         5584   [Francis Lawrence]    6.016802  2014         6.528488  \n",
       "177572         6135     [Chris Williams]    3.952154  2014         7.570793  \n",
       "\n",
       "[10 rows x 24 columns]"
      ]
     },
     "execution_count": 63,
     "metadata": {},
     "output_type": "execute_result"
    }
   ],
   "source": [
    "# Which is not the same as if we sort by popularity\n",
    "data.sort_values('popularity', ascending=False).head(10)"
   ]
  },
  {
   "cell_type": "code",
   "execution_count": 64,
   "metadata": {
    "hidden": true
   },
   "outputs": [
    {
     "data": {
      "image/png": "[encoded data removed]",
      "text/plain": [
       "<Figure size 1008x432 with 1 Axes>"
      ]
     },
     "metadata": {
      "needs_background": "light"
     },
     "output_type": "display_data"
    }
   ],
   "source": [
    "weight_popularity=data.sort_values('popularity',ascending=False)\n",
    "plt.figure(figsize=(14,6))\n",
    "axis1=sns.barplot(x=weight_popularity['popularity'].head(10), y=weight_popularity['original_title'].head(10), data=weight_popularity);\n",
    "plt.title('Best Movies based on Popularity', weight='bold')\n",
    "plt.xlabel('Popularity', weight='bold')\n",
    "plt.ylabel('Movie', weight='bold');"
   ]
  },
  {
   "cell_type": "markdown",
   "metadata": {
    "hidden": true
   },
   "source": [
    "A rating and recommendation system based on votes or popularity alone is not very effective nor very interesting, because it's not personnalised at all. So let's see what makes movies close to each other."
   ]
  },
  {
   "cell_type": "markdown",
   "metadata": {
    "heading_collapsed": true
   },
   "source": [
    "## Recommendation based on genre and quality "
   ]
  },
  {
   "cell_type": "markdown",
   "metadata": {
    "hidden": true
   },
   "source": [
    "We can make another simple recommendation system which is more personnalised. Given a movie, this recommendation system will score all other movies in terms of genre proximity and rating. It will give us back the movies with the best score ! This system is very simple but can be extended quite easily to the keyword category and make an overall not so simple recommendation system."
   ]
  },
  {
   "cell_type": "code",
   "execution_count": 65,
   "metadata": {
    "hidden": true
   },
   "outputs": [
    {
     "data": {
      "text/plain": [
       "movie_id\n",
       "19995    [Action, Adventure, Fantasy, Science Fiction]\n",
       "Name: genres, dtype: object"
      ]
     },
     "execution_count": 65,
     "metadata": {},
     "output_type": "execute_result"
    }
   ],
   "source": [
    "data.head(1)['genres']"
   ]
  },
  {
   "cell_type": "code",
   "execution_count": 66,
   "metadata": {
    "hidden": true
   },
   "outputs": [],
   "source": [
    "def genre_proximity(movie1, movie2):\n",
    "    genres1, genres2 = movie1.genres.iloc[0], movie2.genres\n",
    "    common_genres = [genre for genre in genres1 if genre in genres2]\n",
    "    return 2 * len(common_genres)/(len(genres1) + len(genres2))"
   ]
  },
  {
   "cell_type": "markdown",
   "metadata": {
    "hidden": true
   },
   "source": [
    "We have a measure of genre proximity. As it is pretty simple and we can expect many different movies to have the same genres, we should improve it by recommending the best rated movies with the same genres."
   ]
  },
  {
   "cell_type": "code",
   "execution_count": 67,
   "metadata": {
    "hidden": true
   },
   "outputs": [],
   "source": [
    "def recommend_by_genre(movie_name):\n",
    "    movie = data[data['title'] == movie_name]\n",
    "    sub_data = data.drop(index=movie.index) \n",
    "    sub_data['proximity'] = sub_data.apply(lambda x: genre_proximity(movie, x), axis=1)\n",
    "    sub_data.sort_values(['proximity', 'weighted_rating'], ascending=False, inplace=True)\n",
    "    return sub_data.head(5)['title']"
   ]
  },
  {
   "cell_type": "code",
   "execution_count": 68,
   "metadata": {
    "hidden": true
   },
   "outputs": [
    {
     "data": {
      "text/plain": [
       "movie_id\n",
       "155      The Dark Knight\n",
       "111             Scarface\n",
       "64690              Drive\n",
       "2034        Training Day\n",
       "9509         Man on Fire\n",
       "Name: title, dtype: object"
      ]
     },
     "execution_count": 68,
     "metadata": {},
     "output_type": "execute_result"
    }
   ],
   "source": [
    "recommend_by_genre('The Dark Knight Rises')"
   ]
  },
  {
   "cell_type": "markdown",
   "metadata": {},
   "source": [
    "## Recommendation by description proximity"
   ]
  },
  {
   "cell_type": "markdown",
   "metadata": {},
   "source": [
    "### With TFID"
   ]
  },
  {
   "cell_type": "markdown",
   "metadata": {},
   "source": [
    "We are going to vectorize the 'overview' text in order to compute the similarity between different overviews. This recommendation system will recommend movies that are closest based on overview similarity."
   ]
  },
  {
   "cell_type": "markdown",
   "metadata": {},
   "source": [
    "Since we will be working with ordered numpy matrices here, it will be easier to reinstate a normal index for the dataframe."
   ]
  },
  {
   "cell_type": "code",
   "execution_count": 69,
   "metadata": {},
   "outputs": [],
   "source": [
    "indexed_data = data.reset_index()"
   ]
  },
  {
   "cell_type": "code",
   "execution_count": 70,
   "metadata": {},
   "outputs": [],
   "source": [
    "from sklearn.feature_extraction.text import TfidfVectorizer"
   ]
  },
  {
   "cell_type": "code",
   "execution_count": 71,
   "metadata": {},
   "outputs": [],
   "source": [
    "vect = TfidfVectorizer(min_df=1, stop_words='english')\n",
    "tfidf = vect.fit_transform(indexed_data.overview)\n",
    "pairwise_similarity = tfidf * tfidf.T"
   ]
  },
  {
   "cell_type": "code",
   "execution_count": 72,
   "metadata": {},
   "outputs": [],
   "source": [
    "def overview_proximity(movie1, movie2):\n",
    "    index1, index2 = movie1.index, movie2.index\n",
    "    return pairwise_similarity[index1][index2]"
   ]
  },
  {
   "cell_type": "code",
   "execution_count": 73,
   "metadata": {},
   "outputs": [],
   "source": [
    "def overview_recommend(movie_name):\n",
    "    movie_index = indexed_data[indexed_data.title == movie_name].index\n",
    "    indexed_data['overview_prox'] = pd.DataFrame(pairwise_similarity.toarray()[movie_index].T)\n",
    "    return indexed_data.sort_values(by='overview_prox', ascending=False).drop(index=movie_index).head(10).title"
   ]
  },
  {
   "cell_type": "code",
   "execution_count": 74,
   "metadata": {},
   "outputs": [
    {
     "data": {
      "text/plain": [
       "65                              The Dark Knight\n",
       "299                              Batman Forever\n",
       "428                              Batman Returns\n",
       "1359                                     Batman\n",
       "3850    Batman: The Dark Knight Returns, Part 2\n",
       "119                               Batman Begins\n",
       "2507                                  Slow Burn\n",
       "9            Batman v Superman: Dawn of Justice\n",
       "1181                                        JFK\n",
       "210                              Batman & Robin\n",
       "Name: title, dtype: object"
      ]
     },
     "execution_count": 74,
     "metadata": {},
     "output_type": "execute_result"
    }
   ],
   "source": [
    "overview_recommend('The Dark Knight Rises')"
   ]
  },
  {
   "cell_type": "markdown",
   "metadata": {},
   "source": [
    "We can see that this method is fancy but not necessarily better than the more simple genre recommendation, because it tends to recommand movies which have the same specific vocabulary (such as here, the same hero). It is not necessarily an indicator of similarity."
   ]
  },
  {
   "cell_type": "markdown",
   "metadata": {},
   "source": [
    "### With Word2vec"
   ]
  },
  {
   "cell_type": "code",
   "execution_count": 75,
   "metadata": {},
   "outputs": [
    {
     "name": "stderr",
     "output_type": "stream",
     "text": [
      "[nltk_data] Downloading package punkt to /Users/Mathilde/nltk_data...\n",
      "[nltk_data]   Package punkt is already up-to-date!\n"
     ]
    },
    {
     "data": {
      "text/plain": [
       "True"
      ]
     },
     "execution_count": 75,
     "metadata": {},
     "output_type": "execute_result"
    }
   ],
   "source": [
    "from gensim.models.doc2vec import Doc2Vec, TaggedDocument\n",
    "import nltk\n",
    "nltk.download('punkt')"
   ]
  },
  {
   "cell_type": "code",
   "execution_count": 76,
   "metadata": {},
   "outputs": [
    {
     "data": {
      "text/plain": [
       "movie_id\n",
       "19995     [In, the, 22nd, century, ,, a, paraplegic, Mar...\n",
       "285       [Captain, Barbossa, ,, long, believed, to, be,...\n",
       "206647    [A, cryptic, message, from, Bond, ’, s, past, ...\n",
       "49026     [Following, the, death, of, District, Attorney...\n",
       "49529     [John, Carter, is, a, war-weary, ,, former, mi...\n",
       "                                ...                        \n",
       "9367      [El, Mariachi, just, wants, to, play, his, gui...\n",
       "72766     [A, newlywed, couple, 's, honeymoon, is, upend...\n",
       "231617    [``, Signed, ,, Sealed, ,, Delivered, '', intr...\n",
       "126186    [When, ambitious, New, York, attorney, Sam, is...\n",
       "25975     [Ever, since, the, second, grade, when, he, fi...\n",
       "Name: overview, Length: 4751, dtype: object"
      ]
     },
     "execution_count": 76,
     "metadata": {},
     "output_type": "execute_result"
    }
   ],
   "source": [
    "tokenized_overviews = data.overview.apply(nltk.word_tokenize)\n",
    "tokenized_overviews"
   ]
  },
  {
   "cell_type": "code",
   "execution_count": 78,
   "metadata": {},
   "outputs": [],
   "source": [
    "corpus = [TaggedDocument(doc, [i]) for i, doc in tokenized_overviews.iteritems()]\n",
    "model2 = Doc2Vec(corpus, vector_size=100, window=5, min_count=3, workers=4, epochs=10)"
   ]
  },
  {
   "cell_type": "code",
   "execution_count": 79,
   "metadata": {},
   "outputs": [
    {
     "data": {
      "text/plain": [
       "[(140335, 0.4325615167617798),\n",
       " (261938, 0.42889225482940674),\n",
       " (315113, 0.4223051369190216),\n",
       " (35489, 0.4189820885658264),\n",
       " (256450, 0.4175110459327698),\n",
       " (370017, 0.41559088230133057),\n",
       " (264317, 0.41202449798583984),\n",
       " (130546, 0.4082275629043579),\n",
       " (122210, 0.40553659200668335),\n",
       " (327819, 0.4034038186073303)]"
      ]
     },
     "execution_count": 79,
     "metadata": {},
     "output_type": "execute_result"
    }
   ],
   "source": [
    "model2.docvecs.most_similar(0)"
   ]
  },
  {
   "cell_type": "code",
   "execution_count": 80,
   "metadata": {},
   "outputs": [],
   "source": [
    "def overview_recommend2(movie_name):\n",
    "    movie_index = data[data.title == movie_name].index\n",
    "    most_similar = model2.docvecs.most_similar(movie_index)\n",
    "    recommended = [data.loc[movie[0]].title for movie in most_similar]\n",
    "    return recommended"
   ]
  },
  {
   "cell_type": "code",
   "execution_count": 82,
   "metadata": {},
   "outputs": [
    {
     "data": {
      "text/plain": [
       "['Who Killed the Electric Car?',\n",
       " \"I'm Not There.\",\n",
       " 'Star Trek: The Motion Picture',\n",
       " 'Freddy vs. Jason',\n",
       " 'Sorcerer',\n",
       " 'Killing Them Softly',\n",
       " 'The Rock',\n",
       " 'Gridiron Gang',\n",
       " 'Planet of the Apes',\n",
       " 'Fast Five']"
      ]
     },
     "execution_count": 82,
     "metadata": {},
     "output_type": "execute_result"
    }
   ],
   "source": [
    "overview_recommend2('The Dark Knight')"
   ]
  },
  {
   "cell_type": "markdown",
   "metadata": {},
   "source": [
    "It's a little bit more difficult to identify how well the recommendation system is performing because the movies are less well known. However some choices seem to be a little off, and other right on spot. It's to be expected since the writing of the overview depends both on the topic of the movie and on the style of the writer (some might be telling the plot, while other focus on describing the ambience for instance)."
   ]
  },
  {
   "cell_type": "markdown",
   "metadata": {},
   "source": [
    "## Clustering-based recommendation system"
   ]
  },
  {
   "cell_type": "markdown",
   "metadata": {},
   "source": [
    "### Clustering-specific data cleaning"
   ]
  },
  {
   "cell_type": "markdown",
   "metadata": {},
   "source": [
    "Let's encode the fields for the columns with mutiple labels binarily"
   ]
  },
  {
   "cell_type": "code",
   "execution_count": 76,
   "metadata": {},
   "outputs": [],
   "source": [
    "def generate_modality_list(json_col):\n",
    "    modality_list = list(set(data[json_col].sum()))\n",
    "    return modality_list"
   ]
  },
  {
   "cell_type": "code",
   "execution_count": 77,
   "metadata": {},
   "outputs": [],
   "source": [
    "def binarize(char_list, modality_list):\n",
    "    binary_list = [int(modality in char_list) for modality in modality_list]\n",
    "    return binary_list"
   ]
  },
  {
   "cell_type": "code",
   "execution_count": 84,
   "metadata": {},
   "outputs": [],
   "source": [
    "for column in ['genres', 'keywords', 'director']:\n",
    "    modality_list = generate_modality_list(column)\n",
    "    data[column + '_bin'] = data[column].apply(lambda x : binarize(x, modality_list))"
   ]
  },
  {
   "cell_type": "markdown",
   "metadata": {},
   "source": [
    "We can argue that among the columns, the main characteristics that influence the proximity of two movies are the genre, keywords and director. Let's work with these first."
   ]
  },
  {
   "cell_type": "code",
   "execution_count": 86,
   "metadata": {},
   "outputs": [],
   "source": [
    "prediction_columns = ['director_bin', 'genres_bin', 'keywords_bin']"
   ]
  },
  {
   "cell_type": "code",
   "execution_count": 87,
   "metadata": {},
   "outputs": [],
   "source": [
    "from scipy import spatial"
   ]
  },
  {
   "cell_type": "code",
   "execution_count": 107,
   "metadata": {},
   "outputs": [],
   "source": [
    "def similarity(movie1, movie2):\n",
    "    director_sim = spatial.distance.cosine(movie1.director_bin, movie2.director_bin)\n",
    "    genre_sim = spatial.distance.cosine(movie1.genres_bin, movie2.genres_bin)\n",
    "    keyword_sim = spatial.distance.cosine(movie1.keywords_bin, movie2.keywords_bin)\n",
    "    return director_sim + genre_sim + keyword_sim"
   ]
  },
  {
   "cell_type": "code",
   "execution_count": 129,
   "metadata": {},
   "outputs": [],
   "source": [
    "def similarity_recommend(movie_name):\n",
    "    movie = data[data['title'] == movie_name]\n",
    "    sub_data = data.drop(index=movie.index) \n",
    "    sub_data['similarity'] = sub_data.apply(lambda x: similarity(movie.iloc[0], x), axis=1)\n",
    "    sub_data.sort_values(['similarity', 'weighted_rating'], ascending=[True, False], inplace=True)\n",
    "    return sub_data.head(5)['title']"
   ]
  },
  {
   "cell_type": "code",
   "execution_count": 130,
   "metadata": {},
   "outputs": [],
   "source": [
    "avatar = data[data['title'] == 'Avatar'].iloc[0]\n",
    "spectre = data[data['title'] == 'Spectre'].iloc[0]"
   ]
  },
  {
   "cell_type": "code",
   "execution_count": 131,
   "metadata": {},
   "outputs": [
    {
     "data": {
      "text/plain": [
       "2.4226497308103743"
      ]
     },
     "execution_count": 131,
     "metadata": {},
     "output_type": "execute_result"
    }
   ],
   "source": [
    "similarity(avatar, spectre)"
   ]
  },
  {
   "cell_type": "code",
   "execution_count": 132,
   "metadata": {},
   "outputs": [
    {
     "name": "stderr",
     "output_type": "stream",
     "text": [
      "/Users/Mathilde/Documents/projects/projet_info/.venv/lib/python3.9/site-packages/scipy/spatial/distance.py:714: RuntimeWarning: invalid value encountered in double_scalars\n",
      "  dist = 1.0 - uv / np.sqrt(uu * vv)\n"
     ]
    },
    {
     "data": {
      "text/plain": [
       "movie_id\n",
       "2756                      The Abyss\n",
       "679                          Aliens\n",
       "280      Terminator 2: Judgment Day\n",
       "218                  The Terminator\n",
       "36955                     True Lies\n",
       "Name: title, dtype: object"
      ]
     },
     "execution_count": 132,
     "metadata": {},
     "output_type": "execute_result"
    }
   ],
   "source": [
    "similarity_recommend('Avatar')"
   ]
  },
  {
   "cell_type": "markdown",
   "metadata": {},
   "source": [
    "This technique seems to work quite well since the movies are quite similar without being identical, but there's a hudge bonus to having the same director, which is problematic."
   ]
  }
 ],
 "metadata": {
  "hide_input": false,
  "kernelspec": {
   "display_name": "data_analysis",
   "language": "python",
   "name": "data_analysis"
  },
  "language_info": {
   "codemirror_mode": {
    "name": "ipython",
    "version": 3
   },
   "file_extension": ".py",
   "mimetype": "text/x-python",
   "name": "python",
   "nbconvert_exporter": "python",
   "pygments_lexer": "ipython3",
   "version": "3.9.0"
  }
 },
 "nbformat": 4,
 "nbformat_minor": 4
}
